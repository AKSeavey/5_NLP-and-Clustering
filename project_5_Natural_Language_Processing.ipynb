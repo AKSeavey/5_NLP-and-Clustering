{
  "nbformat": 4,
  "nbformat_minor": 0,
  "metadata": {
    "colab": {
      "provenance": [],
      "collapsed_sections": [
        "jlYaUU-LoMs_"
      ],
      "gpuType": "T4",
      "authorship_tag": "ABX9TyNs0a1TDxraowEMSHVs3Ufz",
      "include_colab_link": true
    },
    "kernelspec": {
      "name": "python3",
      "display_name": "Python 3"
    },
    "language_info": {
      "name": "python"
    }
  },
  "cells": [
    {
      "cell_type": "markdown",
      "metadata": {
        "id": "view-in-github",
        "colab_type": "text"
      },
      "source": [
        "<a href=\"https://colab.research.google.com/github/AKSeavey/5_NLP-and-Clustering/blob/main/project_5_Natural_Language_Processing.ipynb\" target=\"_parent\"><img src=\"https://colab.research.google.com/assets/colab-badge.svg\" alt=\"Open In Colab\"/></a>"
      ]
    },
    {
      "cell_type": "markdown",
      "source": [
        "### set up environment"
      ],
      "metadata": {
        "id": "7eFXpZzAnTrn"
      }
    },
    {
      "cell_type": "code",
      "source": [
        "import numpy as np\n",
        "import pandas as pd\n",
        "import random\n",
        "\n",
        "from sklearn.feature_extraction.text import CountVectorizer\n",
        "from sklearn.feature_extraction.text import TfidfVectorizer\n",
        "from sklearn.feature_extraction.text import TfidfTransformer\n",
        "\n",
        "from sklearn.neighbors import KNeighborsClassifier\n",
        "from sklearn.neighbors import NearestNeighbors\n",
        "from sklearn.pipeline import Pipeline"
      ],
      "metadata": {
        "id": "r6EhRY1_F5QD"
      },
      "execution_count": null,
      "outputs": []
    },
    {
      "cell_type": "code",
      "execution_count": null,
      "metadata": {
        "id": "KKRtlgDwO4UQ"
      },
      "outputs": [],
      "source": [
        "# Install textblob\n",
        "%%capture\n",
        "!pip3 install -U textblob"
      ]
    },
    {
      "cell_type": "code",
      "execution_count": null,
      "metadata": {
        "id": "RjRO3rThPQvq"
      },
      "outputs": [],
      "source": [
        "from textblob import TextBlob"
      ]
    },
    {
      "cell_type": "code",
      "execution_count": null,
      "metadata": {
        "id": "-GFxnAuHer46"
      },
      "outputs": [],
      "source": [
        "# Download corpora\n",
        "%%capture\n",
        "!python -m textblob.download_corpora\n"
      ]
    },
    {
      "cell_type": "code",
      "execution_count": null,
      "metadata": {
        "id": "Iac8TfgsLzJh",
        "colab": {
          "base_uri": "https://localhost:8080/"
        },
        "outputId": "0735c847-fba1-4ed8-a84d-76edfcde1a60"
      },
      "outputs": [
        {
          "output_type": "stream",
          "name": "stderr",
          "text": [
            "[nltk_data] Downloading package omw-1.4 to /root/nltk_data...\n",
            "[nltk_data]   Package omw-1.4 is already up-to-date!\n"
          ]
        },
        {
          "output_type": "execute_result",
          "data": {
            "text/plain": [
              "True"
            ]
          },
          "metadata": {},
          "execution_count": 70
        }
      ],
      "source": [
        "import nltk\n",
        "nltk.download('omw-1.4')\n"
      ]
    },
    {
      "cell_type": "markdown",
      "source": [
        "### import csv and look around"
      ],
      "metadata": {
        "id": "ULfiywv2ne77"
      }
    },
    {
      "cell_type": "code",
      "source": [
        "from google.colab import drive\n",
        "drive.mount('/content/drive')"
      ],
      "metadata": {
        "colab": {
          "base_uri": "https://localhost:8080/"
        },
        "id": "2s0KudZT18x_",
        "outputId": "04aa9967-e491-4f80-bccc-e2bffab1164f"
      },
      "execution_count": null,
      "outputs": [
        {
          "output_type": "stream",
          "name": "stdout",
          "text": [
            "Drive already mounted at /content/drive; to attempt to forcibly remount, call drive.mount(\"/content/drive\", force_remount=True).\n"
          ]
        }
      ]
    },
    {
      "cell_type": "code",
      "source": [
        "nlp = pd.read_csv(\"/content/drive/MyDrive/Colab Notebooks/project_5/NLP.csv\")"
      ],
      "metadata": {
        "id": "szxw7lbW2gk-"
      },
      "execution_count": null,
      "outputs": []
    },
    {
      "cell_type": "code",
      "source": [
        "nlp.head()"
      ],
      "metadata": {
        "colab": {
          "base_uri": "https://localhost:8080/",
          "height": 206
        },
        "id": "rB2Ja1GTF83j",
        "outputId": "1d7f8ea6-6922-4998-b223-94fea3a6796f"
      },
      "execution_count": null,
      "outputs": [
        {
          "output_type": "execute_result",
          "data": {
            "text/plain": [
              "                                                 URI                 name  \\\n",
              "0        <http://dbpedia.org/resource/Digby_Morrell>        Digby Morrell   \n",
              "1       <http://dbpedia.org/resource/Alfred_J._Lewy>       Alfred J. Lewy   \n",
              "2        <http://dbpedia.org/resource/Harpdog_Brown>        Harpdog Brown   \n",
              "3  <http://dbpedia.org/resource/Franz_Rottensteiner>  Franz Rottensteiner   \n",
              "4               <http://dbpedia.org/resource/G-Enka>               G-Enka   \n",
              "\n",
              "                                                text  \n",
              "0  digby morrell born 10 october 1979 is a former...  \n",
              "1  alfred j lewy aka sandy lewy graduated from un...  \n",
              "2  harpdog brown is a singer and harmonica player...  \n",
              "3  franz rottensteiner born in waidmannsfeld lowe...  \n",
              "4  henry krvits born 30 december 1974 in tallinn ...  "
            ],
            "text/html": [
              "\n",
              "\n",
              "  <div id=\"df-c8011572-892d-4fb0-91e0-12782ecc8bf5\">\n",
              "    <div class=\"colab-df-container\">\n",
              "      <div>\n",
              "<style scoped>\n",
              "    .dataframe tbody tr th:only-of-type {\n",
              "        vertical-align: middle;\n",
              "    }\n",
              "\n",
              "    .dataframe tbody tr th {\n",
              "        vertical-align: top;\n",
              "    }\n",
              "\n",
              "    .dataframe thead th {\n",
              "        text-align: right;\n",
              "    }\n",
              "</style>\n",
              "<table border=\"1\" class=\"dataframe\">\n",
              "  <thead>\n",
              "    <tr style=\"text-align: right;\">\n",
              "      <th></th>\n",
              "      <th>URI</th>\n",
              "      <th>name</th>\n",
              "      <th>text</th>\n",
              "    </tr>\n",
              "  </thead>\n",
              "  <tbody>\n",
              "    <tr>\n",
              "      <th>0</th>\n",
              "      <td>&lt;http://dbpedia.org/resource/Digby_Morrell&gt;</td>\n",
              "      <td>Digby Morrell</td>\n",
              "      <td>digby morrell born 10 october 1979 is a former...</td>\n",
              "    </tr>\n",
              "    <tr>\n",
              "      <th>1</th>\n",
              "      <td>&lt;http://dbpedia.org/resource/Alfred_J._Lewy&gt;</td>\n",
              "      <td>Alfred J. Lewy</td>\n",
              "      <td>alfred j lewy aka sandy lewy graduated from un...</td>\n",
              "    </tr>\n",
              "    <tr>\n",
              "      <th>2</th>\n",
              "      <td>&lt;http://dbpedia.org/resource/Harpdog_Brown&gt;</td>\n",
              "      <td>Harpdog Brown</td>\n",
              "      <td>harpdog brown is a singer and harmonica player...</td>\n",
              "    </tr>\n",
              "    <tr>\n",
              "      <th>3</th>\n",
              "      <td>&lt;http://dbpedia.org/resource/Franz_Rottensteiner&gt;</td>\n",
              "      <td>Franz Rottensteiner</td>\n",
              "      <td>franz rottensteiner born in waidmannsfeld lowe...</td>\n",
              "    </tr>\n",
              "    <tr>\n",
              "      <th>4</th>\n",
              "      <td>&lt;http://dbpedia.org/resource/G-Enka&gt;</td>\n",
              "      <td>G-Enka</td>\n",
              "      <td>henry krvits born 30 december 1974 in tallinn ...</td>\n",
              "    </tr>\n",
              "  </tbody>\n",
              "</table>\n",
              "</div>\n",
              "      <button class=\"colab-df-convert\" onclick=\"convertToInteractive('df-c8011572-892d-4fb0-91e0-12782ecc8bf5')\"\n",
              "              title=\"Convert this dataframe to an interactive table.\"\n",
              "              style=\"display:none;\">\n",
              "\n",
              "  <svg xmlns=\"http://www.w3.org/2000/svg\" height=\"24px\"viewBox=\"0 0 24 24\"\n",
              "       width=\"24px\">\n",
              "    <path d=\"M0 0h24v24H0V0z\" fill=\"none\"/>\n",
              "    <path d=\"M18.56 5.44l.94 2.06.94-2.06 2.06-.94-2.06-.94-.94-2.06-.94 2.06-2.06.94zm-11 1L8.5 8.5l.94-2.06 2.06-.94-2.06-.94L8.5 2.5l-.94 2.06-2.06.94zm10 10l.94 2.06.94-2.06 2.06-.94-2.06-.94-.94-2.06-.94 2.06-2.06.94z\"/><path d=\"M17.41 7.96l-1.37-1.37c-.4-.4-.92-.59-1.43-.59-.52 0-1.04.2-1.43.59L10.3 9.45l-7.72 7.72c-.78.78-.78 2.05 0 2.83L4 21.41c.39.39.9.59 1.41.59.51 0 1.02-.2 1.41-.59l7.78-7.78 2.81-2.81c.8-.78.8-2.07 0-2.86zM5.41 20L4 18.59l7.72-7.72 1.47 1.35L5.41 20z\"/>\n",
              "  </svg>\n",
              "      </button>\n",
              "\n",
              "\n",
              "\n",
              "    <div id=\"df-083a2994-a35e-435f-9e67-c8fe7efae5d2\">\n",
              "      <button class=\"colab-df-quickchart\" onclick=\"quickchart('df-083a2994-a35e-435f-9e67-c8fe7efae5d2')\"\n",
              "              title=\"Suggest charts.\"\n",
              "              style=\"display:none;\">\n",
              "\n",
              "<svg xmlns=\"http://www.w3.org/2000/svg\" height=\"24px\"viewBox=\"0 0 24 24\"\n",
              "     width=\"24px\">\n",
              "    <g>\n",
              "        <path d=\"M19 3H5c-1.1 0-2 .9-2 2v14c0 1.1.9 2 2 2h14c1.1 0 2-.9 2-2V5c0-1.1-.9-2-2-2zM9 17H7v-7h2v7zm4 0h-2V7h2v10zm4 0h-2v-4h2v4z\"/>\n",
              "    </g>\n",
              "</svg>\n",
              "      </button>\n",
              "    </div>\n",
              "\n",
              "<style>\n",
              "  .colab-df-quickchart {\n",
              "    background-color: #E8F0FE;\n",
              "    border: none;\n",
              "    border-radius: 50%;\n",
              "    cursor: pointer;\n",
              "    display: none;\n",
              "    fill: #1967D2;\n",
              "    height: 32px;\n",
              "    padding: 0 0 0 0;\n",
              "    width: 32px;\n",
              "  }\n",
              "\n",
              "  .colab-df-quickchart:hover {\n",
              "    background-color: #E2EBFA;\n",
              "    box-shadow: 0px 1px 2px rgba(60, 64, 67, 0.3), 0px 1px 3px 1px rgba(60, 64, 67, 0.15);\n",
              "    fill: #174EA6;\n",
              "  }\n",
              "\n",
              "  [theme=dark] .colab-df-quickchart {\n",
              "    background-color: #3B4455;\n",
              "    fill: #D2E3FC;\n",
              "  }\n",
              "\n",
              "  [theme=dark] .colab-df-quickchart:hover {\n",
              "    background-color: #434B5C;\n",
              "    box-shadow: 0px 1px 3px 1px rgba(0, 0, 0, 0.15);\n",
              "    filter: drop-shadow(0px 1px 2px rgba(0, 0, 0, 0.3));\n",
              "    fill: #FFFFFF;\n",
              "  }\n",
              "</style>\n",
              "\n",
              "    <script>\n",
              "      async function quickchart(key) {\n",
              "        const containerElement = document.querySelector('#' + key);\n",
              "        const charts = await google.colab.kernel.invokeFunction(\n",
              "            'suggestCharts', [key], {});\n",
              "      }\n",
              "    </script>\n",
              "\n",
              "      <script>\n",
              "\n",
              "function displayQuickchartButton(domScope) {\n",
              "  let quickchartButtonEl =\n",
              "    domScope.querySelector('#df-083a2994-a35e-435f-9e67-c8fe7efae5d2 button.colab-df-quickchart');\n",
              "  quickchartButtonEl.style.display =\n",
              "    google.colab.kernel.accessAllowed ? 'block' : 'none';\n",
              "}\n",
              "\n",
              "        displayQuickchartButton(document);\n",
              "      </script>\n",
              "      <style>\n",
              "    .colab-df-container {\n",
              "      display:flex;\n",
              "      flex-wrap:wrap;\n",
              "      gap: 12px;\n",
              "    }\n",
              "\n",
              "    .colab-df-convert {\n",
              "      background-color: #E8F0FE;\n",
              "      border: none;\n",
              "      border-radius: 50%;\n",
              "      cursor: pointer;\n",
              "      display: none;\n",
              "      fill: #1967D2;\n",
              "      height: 32px;\n",
              "      padding: 0 0 0 0;\n",
              "      width: 32px;\n",
              "    }\n",
              "\n",
              "    .colab-df-convert:hover {\n",
              "      background-color: #E2EBFA;\n",
              "      box-shadow: 0px 1px 2px rgba(60, 64, 67, 0.3), 0px 1px 3px 1px rgba(60, 64, 67, 0.15);\n",
              "      fill: #174EA6;\n",
              "    }\n",
              "\n",
              "    [theme=dark] .colab-df-convert {\n",
              "      background-color: #3B4455;\n",
              "      fill: #D2E3FC;\n",
              "    }\n",
              "\n",
              "    [theme=dark] .colab-df-convert:hover {\n",
              "      background-color: #434B5C;\n",
              "      box-shadow: 0px 1px 3px 1px rgba(0, 0, 0, 0.15);\n",
              "      filter: drop-shadow(0px 1px 2px rgba(0, 0, 0, 0.3));\n",
              "      fill: #FFFFFF;\n",
              "    }\n",
              "  </style>\n",
              "\n",
              "      <script>\n",
              "        const buttonEl =\n",
              "          document.querySelector('#df-c8011572-892d-4fb0-91e0-12782ecc8bf5 button.colab-df-convert');\n",
              "        buttonEl.style.display =\n",
              "          google.colab.kernel.accessAllowed ? 'block' : 'none';\n",
              "\n",
              "        async function convertToInteractive(key) {\n",
              "          const element = document.querySelector('#df-c8011572-892d-4fb0-91e0-12782ecc8bf5');\n",
              "          const dataTable =\n",
              "            await google.colab.kernel.invokeFunction('convertToInteractive',\n",
              "                                                     [key], {});\n",
              "          if (!dataTable) return;\n",
              "\n",
              "          const docLinkHtml = 'Like what you see? Visit the ' +\n",
              "            '<a target=\"_blank\" href=https://colab.research.google.com/notebooks/data_table.ipynb>data table notebook</a>'\n",
              "            + ' to learn more about interactive tables.';\n",
              "          element.innerHTML = '';\n",
              "          dataTable['output_type'] = 'display_data';\n",
              "          await google.colab.output.renderOutput(dataTable, element);\n",
              "          const docLink = document.createElement('div');\n",
              "          docLink.innerHTML = docLinkHtml;\n",
              "          element.appendChild(docLink);\n",
              "        }\n",
              "      </script>\n",
              "    </div>\n",
              "  </div>\n"
            ]
          },
          "metadata": {},
          "execution_count": 73
        }
      ]
    },
    {
      "cell_type": "code",
      "source": [
        "# create a random row selector tool\n",
        "num_rows = len(nlp)\n",
        "\n",
        "random_index = random.randint(0, num_rows -1)\n",
        "random_row = nlp.iloc[random_index]\n",
        "random_row"
      ],
      "metadata": {
        "colab": {
          "base_uri": "https://localhost:8080/"
        },
        "id": "W8OugtObGZou",
        "outputId": "fe9adedc-d214-4f77-94a8-53c17a1a191c"
      },
      "execution_count": null,
      "outputs": [
        {
          "output_type": "execute_result",
          "data": {
            "text/plain": [
              "URI        <http://dbpedia.org/resource/Bronwyn_Bancroft>\n",
              "name                                     Bronwyn Bancroft\n",
              "text    bronwyn bancroft born 1958 is an australian ar...\n",
              "Name: 29625, dtype: object"
            ]
          },
          "metadata": {},
          "execution_count": 74
        }
      ]
    },
    {
      "cell_type": "code",
      "source": [
        "nlp.shape"
      ],
      "metadata": {
        "colab": {
          "base_uri": "https://localhost:8080/"
        },
        "id": "ePqwP5hrbqWp",
        "outputId": "322c587b-e4f1-47aa-f744-b035402421a0"
      },
      "execution_count": null,
      "outputs": [
        {
          "output_type": "execute_result",
          "data": {
            "text/plain": [
              "(42786, 3)"
            ]
          },
          "metadata": {},
          "execution_count": 75
        }
      ]
    },
    {
      "cell_type": "code",
      "source": [
        "nlp.info()"
      ],
      "metadata": {
        "colab": {
          "base_uri": "https://localhost:8080/"
        },
        "id": "JmQPeT5lnunb",
        "outputId": "d76d2b7c-8760-4b01-c689-33bab68cf6fb"
      },
      "execution_count": null,
      "outputs": [
        {
          "output_type": "stream",
          "name": "stdout",
          "text": [
            "<class 'pandas.core.frame.DataFrame'>\n",
            "RangeIndex: 42786 entries, 0 to 42785\n",
            "Data columns (total 3 columns):\n",
            " #   Column  Non-Null Count  Dtype \n",
            "---  ------  --------------  ----- \n",
            " 0   URI     42786 non-null  object\n",
            " 1   name    42786 non-null  object\n",
            " 2   text    42786 non-null  object\n",
            "dtypes: object(3)\n",
            "memory usage: 1002.9+ KB\n"
          ]
        }
      ]
    },
    {
      "cell_type": "markdown",
      "source": [
        "### text preprocessing"
      ],
      "metadata": {
        "id": "NYrbeGGeoX0g"
      }
    },
    {
      "cell_type": "code",
      "source": [
        "# nlp_clean = nlp.copy()"
      ],
      "metadata": {
        "id": "mhTj39GspvVJ"
      },
      "execution_count": null,
      "outputs": []
    },
    {
      "cell_type": "code",
      "source": [
        "# the full dataset was crashing colab... let's try an MVP with a smaller sample of the data\n",
        "nlp_clean = nlp[:2000].copy()"
      ],
      "metadata": {
        "id": "GgowYaJ9AtuH"
      },
      "execution_count": null,
      "outputs": []
    },
    {
      "cell_type": "code",
      "source": [
        "nlp_clean.head()"
      ],
      "metadata": {
        "colab": {
          "base_uri": "https://localhost:8080/",
          "height": 206
        },
        "id": "LM7X__Yep9ed",
        "outputId": "2908dc58-903d-4327-8a4d-554b89b242da"
      },
      "execution_count": null,
      "outputs": [
        {
          "output_type": "execute_result",
          "data": {
            "text/plain": [
              "                                                 URI                 name  \\\n",
              "0        <http://dbpedia.org/resource/Digby_Morrell>        Digby Morrell   \n",
              "1       <http://dbpedia.org/resource/Alfred_J._Lewy>       Alfred J. Lewy   \n",
              "2        <http://dbpedia.org/resource/Harpdog_Brown>        Harpdog Brown   \n",
              "3  <http://dbpedia.org/resource/Franz_Rottensteiner>  Franz Rottensteiner   \n",
              "4               <http://dbpedia.org/resource/G-Enka>               G-Enka   \n",
              "\n",
              "                                                text  \n",
              "0  digby morrell born 10 october 1979 is a former...  \n",
              "1  alfred j lewy aka sandy lewy graduated from un...  \n",
              "2  harpdog brown is a singer and harmonica player...  \n",
              "3  franz rottensteiner born in waidmannsfeld lowe...  \n",
              "4  henry krvits born 30 december 1974 in tallinn ...  "
            ],
            "text/html": [
              "\n",
              "\n",
              "  <div id=\"df-cd9754e9-d68b-4343-a0be-f7e3dae189e4\">\n",
              "    <div class=\"colab-df-container\">\n",
              "      <div>\n",
              "<style scoped>\n",
              "    .dataframe tbody tr th:only-of-type {\n",
              "        vertical-align: middle;\n",
              "    }\n",
              "\n",
              "    .dataframe tbody tr th {\n",
              "        vertical-align: top;\n",
              "    }\n",
              "\n",
              "    .dataframe thead th {\n",
              "        text-align: right;\n",
              "    }\n",
              "</style>\n",
              "<table border=\"1\" class=\"dataframe\">\n",
              "  <thead>\n",
              "    <tr style=\"text-align: right;\">\n",
              "      <th></th>\n",
              "      <th>URI</th>\n",
              "      <th>name</th>\n",
              "      <th>text</th>\n",
              "    </tr>\n",
              "  </thead>\n",
              "  <tbody>\n",
              "    <tr>\n",
              "      <th>0</th>\n",
              "      <td>&lt;http://dbpedia.org/resource/Digby_Morrell&gt;</td>\n",
              "      <td>Digby Morrell</td>\n",
              "      <td>digby morrell born 10 october 1979 is a former...</td>\n",
              "    </tr>\n",
              "    <tr>\n",
              "      <th>1</th>\n",
              "      <td>&lt;http://dbpedia.org/resource/Alfred_J._Lewy&gt;</td>\n",
              "      <td>Alfred J. Lewy</td>\n",
              "      <td>alfred j lewy aka sandy lewy graduated from un...</td>\n",
              "    </tr>\n",
              "    <tr>\n",
              "      <th>2</th>\n",
              "      <td>&lt;http://dbpedia.org/resource/Harpdog_Brown&gt;</td>\n",
              "      <td>Harpdog Brown</td>\n",
              "      <td>harpdog brown is a singer and harmonica player...</td>\n",
              "    </tr>\n",
              "    <tr>\n",
              "      <th>3</th>\n",
              "      <td>&lt;http://dbpedia.org/resource/Franz_Rottensteiner&gt;</td>\n",
              "      <td>Franz Rottensteiner</td>\n",
              "      <td>franz rottensteiner born in waidmannsfeld lowe...</td>\n",
              "    </tr>\n",
              "    <tr>\n",
              "      <th>4</th>\n",
              "      <td>&lt;http://dbpedia.org/resource/G-Enka&gt;</td>\n",
              "      <td>G-Enka</td>\n",
              "      <td>henry krvits born 30 december 1974 in tallinn ...</td>\n",
              "    </tr>\n",
              "  </tbody>\n",
              "</table>\n",
              "</div>\n",
              "      <button class=\"colab-df-convert\" onclick=\"convertToInteractive('df-cd9754e9-d68b-4343-a0be-f7e3dae189e4')\"\n",
              "              title=\"Convert this dataframe to an interactive table.\"\n",
              "              style=\"display:none;\">\n",
              "\n",
              "  <svg xmlns=\"http://www.w3.org/2000/svg\" height=\"24px\"viewBox=\"0 0 24 24\"\n",
              "       width=\"24px\">\n",
              "    <path d=\"M0 0h24v24H0V0z\" fill=\"none\"/>\n",
              "    <path d=\"M18.56 5.44l.94 2.06.94-2.06 2.06-.94-2.06-.94-.94-2.06-.94 2.06-2.06.94zm-11 1L8.5 8.5l.94-2.06 2.06-.94-2.06-.94L8.5 2.5l-.94 2.06-2.06.94zm10 10l.94 2.06.94-2.06 2.06-.94-2.06-.94-.94-2.06-.94 2.06-2.06.94z\"/><path d=\"M17.41 7.96l-1.37-1.37c-.4-.4-.92-.59-1.43-.59-.52 0-1.04.2-1.43.59L10.3 9.45l-7.72 7.72c-.78.78-.78 2.05 0 2.83L4 21.41c.39.39.9.59 1.41.59.51 0 1.02-.2 1.41-.59l7.78-7.78 2.81-2.81c.8-.78.8-2.07 0-2.86zM5.41 20L4 18.59l7.72-7.72 1.47 1.35L5.41 20z\"/>\n",
              "  </svg>\n",
              "      </button>\n",
              "\n",
              "\n",
              "\n",
              "    <div id=\"df-b0023a9d-4aec-4c76-b23e-ceb87b071955\">\n",
              "      <button class=\"colab-df-quickchart\" onclick=\"quickchart('df-b0023a9d-4aec-4c76-b23e-ceb87b071955')\"\n",
              "              title=\"Suggest charts.\"\n",
              "              style=\"display:none;\">\n",
              "\n",
              "<svg xmlns=\"http://www.w3.org/2000/svg\" height=\"24px\"viewBox=\"0 0 24 24\"\n",
              "     width=\"24px\">\n",
              "    <g>\n",
              "        <path d=\"M19 3H5c-1.1 0-2 .9-2 2v14c0 1.1.9 2 2 2h14c1.1 0 2-.9 2-2V5c0-1.1-.9-2-2-2zM9 17H7v-7h2v7zm4 0h-2V7h2v10zm4 0h-2v-4h2v4z\"/>\n",
              "    </g>\n",
              "</svg>\n",
              "      </button>\n",
              "    </div>\n",
              "\n",
              "<style>\n",
              "  .colab-df-quickchart {\n",
              "    background-color: #E8F0FE;\n",
              "    border: none;\n",
              "    border-radius: 50%;\n",
              "    cursor: pointer;\n",
              "    display: none;\n",
              "    fill: #1967D2;\n",
              "    height: 32px;\n",
              "    padding: 0 0 0 0;\n",
              "    width: 32px;\n",
              "  }\n",
              "\n",
              "  .colab-df-quickchart:hover {\n",
              "    background-color: #E2EBFA;\n",
              "    box-shadow: 0px 1px 2px rgba(60, 64, 67, 0.3), 0px 1px 3px 1px rgba(60, 64, 67, 0.15);\n",
              "    fill: #174EA6;\n",
              "  }\n",
              "\n",
              "  [theme=dark] .colab-df-quickchart {\n",
              "    background-color: #3B4455;\n",
              "    fill: #D2E3FC;\n",
              "  }\n",
              "\n",
              "  [theme=dark] .colab-df-quickchart:hover {\n",
              "    background-color: #434B5C;\n",
              "    box-shadow: 0px 1px 3px 1px rgba(0, 0, 0, 0.15);\n",
              "    filter: drop-shadow(0px 1px 2px rgba(0, 0, 0, 0.3));\n",
              "    fill: #FFFFFF;\n",
              "  }\n",
              "</style>\n",
              "\n",
              "    <script>\n",
              "      async function quickchart(key) {\n",
              "        const containerElement = document.querySelector('#' + key);\n",
              "        const charts = await google.colab.kernel.invokeFunction(\n",
              "            'suggestCharts', [key], {});\n",
              "      }\n",
              "    </script>\n",
              "\n",
              "      <script>\n",
              "\n",
              "function displayQuickchartButton(domScope) {\n",
              "  let quickchartButtonEl =\n",
              "    domScope.querySelector('#df-b0023a9d-4aec-4c76-b23e-ceb87b071955 button.colab-df-quickchart');\n",
              "  quickchartButtonEl.style.display =\n",
              "    google.colab.kernel.accessAllowed ? 'block' : 'none';\n",
              "}\n",
              "\n",
              "        displayQuickchartButton(document);\n",
              "      </script>\n",
              "      <style>\n",
              "    .colab-df-container {\n",
              "      display:flex;\n",
              "      flex-wrap:wrap;\n",
              "      gap: 12px;\n",
              "    }\n",
              "\n",
              "    .colab-df-convert {\n",
              "      background-color: #E8F0FE;\n",
              "      border: none;\n",
              "      border-radius: 50%;\n",
              "      cursor: pointer;\n",
              "      display: none;\n",
              "      fill: #1967D2;\n",
              "      height: 32px;\n",
              "      padding: 0 0 0 0;\n",
              "      width: 32px;\n",
              "    }\n",
              "\n",
              "    .colab-df-convert:hover {\n",
              "      background-color: #E2EBFA;\n",
              "      box-shadow: 0px 1px 2px rgba(60, 64, 67, 0.3), 0px 1px 3px 1px rgba(60, 64, 67, 0.15);\n",
              "      fill: #174EA6;\n",
              "    }\n",
              "\n",
              "    [theme=dark] .colab-df-convert {\n",
              "      background-color: #3B4455;\n",
              "      fill: #D2E3FC;\n",
              "    }\n",
              "\n",
              "    [theme=dark] .colab-df-convert:hover {\n",
              "      background-color: #434B5C;\n",
              "      box-shadow: 0px 1px 3px 1px rgba(0, 0, 0, 0.15);\n",
              "      filter: drop-shadow(0px 1px 2px rgba(0, 0, 0, 0.3));\n",
              "      fill: #FFFFFF;\n",
              "    }\n",
              "  </style>\n",
              "\n",
              "      <script>\n",
              "        const buttonEl =\n",
              "          document.querySelector('#df-cd9754e9-d68b-4343-a0be-f7e3dae189e4 button.colab-df-convert');\n",
              "        buttonEl.style.display =\n",
              "          google.colab.kernel.accessAllowed ? 'block' : 'none';\n",
              "\n",
              "        async function convertToInteractive(key) {\n",
              "          const element = document.querySelector('#df-cd9754e9-d68b-4343-a0be-f7e3dae189e4');\n",
              "          const dataTable =\n",
              "            await google.colab.kernel.invokeFunction('convertToInteractive',\n",
              "                                                     [key], {});\n",
              "          if (!dataTable) return;\n",
              "\n",
              "          const docLinkHtml = 'Like what you see? Visit the ' +\n",
              "            '<a target=\"_blank\" href=https://colab.research.google.com/notebooks/data_table.ipynb>data table notebook</a>'\n",
              "            + ' to learn more about interactive tables.';\n",
              "          element.innerHTML = '';\n",
              "          dataTable['output_type'] = 'display_data';\n",
              "          await google.colab.output.renderOutput(dataTable, element);\n",
              "          const docLink = document.createElement('div');\n",
              "          docLink.innerHTML = docLinkHtml;\n",
              "          element.appendChild(docLink);\n",
              "        }\n",
              "      </script>\n",
              "    </div>\n",
              "  </div>\n"
            ]
          },
          "metadata": {},
          "execution_count": 88
        }
      ]
    },
    {
      "cell_type": "code",
      "source": [
        "# convert text column to text blobs\n",
        "nlp_clean['text_blobs'] = nlp_clean['text'].apply(lambda text: TextBlob(text))"
      ],
      "metadata": {
        "id": "pd8je_z5YjL4"
      },
      "execution_count": null,
      "outputs": []
    },
    {
      "cell_type": "code",
      "source": [
        "nlp_clean.head()"
      ],
      "metadata": {
        "colab": {
          "base_uri": "https://localhost:8080/",
          "height": 337
        },
        "id": "4N2jTC6XbWoh",
        "outputId": "43151a15-346c-4b9f-f253-a28ad0eaed2e"
      },
      "execution_count": null,
      "outputs": [
        {
          "output_type": "execute_result",
          "data": {
            "text/plain": [
              "                                                 URI                 name  \\\n",
              "0        <http://dbpedia.org/resource/Digby_Morrell>        Digby Morrell   \n",
              "1       <http://dbpedia.org/resource/Alfred_J._Lewy>       Alfred J. Lewy   \n",
              "2        <http://dbpedia.org/resource/Harpdog_Brown>        Harpdog Brown   \n",
              "3  <http://dbpedia.org/resource/Franz_Rottensteiner>  Franz Rottensteiner   \n",
              "4               <http://dbpedia.org/resource/G-Enka>               G-Enka   \n",
              "\n",
              "                                                text  \\\n",
              "0  digby morrell born 10 october 1979 is a former...   \n",
              "1  alfred j lewy aka sandy lewy graduated from un...   \n",
              "2  harpdog brown is a singer and harmonica player...   \n",
              "3  franz rottensteiner born in waidmannsfeld lowe...   \n",
              "4  henry krvits born 30 december 1974 in tallinn ...   \n",
              "\n",
              "                                          text_blobs  \n",
              "0  (d, i, g, b, y,  , m, o, r, r, e, l, l,  , b, ...  \n",
              "1  (a, l, f, r, e, d,  , j,  , l, e, w, y,  , a, ...  \n",
              "2  (h, a, r, p, d, o, g,  , b, r, o, w, n,  , i, ...  \n",
              "3  (f, r, a, n, z,  , r, o, t, t, e, n, s, t, e, ...  \n",
              "4  (h, e, n, r, y,  , k, r, v, i, t, s,  , b, o, ...  "
            ],
            "text/html": [
              "\n",
              "\n",
              "  <div id=\"df-2efed658-5fd1-4256-b008-a9786a94a673\">\n",
              "    <div class=\"colab-df-container\">\n",
              "      <div>\n",
              "<style scoped>\n",
              "    .dataframe tbody tr th:only-of-type {\n",
              "        vertical-align: middle;\n",
              "    }\n",
              "\n",
              "    .dataframe tbody tr th {\n",
              "        vertical-align: top;\n",
              "    }\n",
              "\n",
              "    .dataframe thead th {\n",
              "        text-align: right;\n",
              "    }\n",
              "</style>\n",
              "<table border=\"1\" class=\"dataframe\">\n",
              "  <thead>\n",
              "    <tr style=\"text-align: right;\">\n",
              "      <th></th>\n",
              "      <th>URI</th>\n",
              "      <th>name</th>\n",
              "      <th>text</th>\n",
              "      <th>text_blobs</th>\n",
              "    </tr>\n",
              "  </thead>\n",
              "  <tbody>\n",
              "    <tr>\n",
              "      <th>0</th>\n",
              "      <td>&lt;http://dbpedia.org/resource/Digby_Morrell&gt;</td>\n",
              "      <td>Digby Morrell</td>\n",
              "      <td>digby morrell born 10 october 1979 is a former...</td>\n",
              "      <td>(d, i, g, b, y,  , m, o, r, r, e, l, l,  , b, ...</td>\n",
              "    </tr>\n",
              "    <tr>\n",
              "      <th>1</th>\n",
              "      <td>&lt;http://dbpedia.org/resource/Alfred_J._Lewy&gt;</td>\n",
              "      <td>Alfred J. Lewy</td>\n",
              "      <td>alfred j lewy aka sandy lewy graduated from un...</td>\n",
              "      <td>(a, l, f, r, e, d,  , j,  , l, e, w, y,  , a, ...</td>\n",
              "    </tr>\n",
              "    <tr>\n",
              "      <th>2</th>\n",
              "      <td>&lt;http://dbpedia.org/resource/Harpdog_Brown&gt;</td>\n",
              "      <td>Harpdog Brown</td>\n",
              "      <td>harpdog brown is a singer and harmonica player...</td>\n",
              "      <td>(h, a, r, p, d, o, g,  , b, r, o, w, n,  , i, ...</td>\n",
              "    </tr>\n",
              "    <tr>\n",
              "      <th>3</th>\n",
              "      <td>&lt;http://dbpedia.org/resource/Franz_Rottensteiner&gt;</td>\n",
              "      <td>Franz Rottensteiner</td>\n",
              "      <td>franz rottensteiner born in waidmannsfeld lowe...</td>\n",
              "      <td>(f, r, a, n, z,  , r, o, t, t, e, n, s, t, e, ...</td>\n",
              "    </tr>\n",
              "    <tr>\n",
              "      <th>4</th>\n",
              "      <td>&lt;http://dbpedia.org/resource/G-Enka&gt;</td>\n",
              "      <td>G-Enka</td>\n",
              "      <td>henry krvits born 30 december 1974 in tallinn ...</td>\n",
              "      <td>(h, e, n, r, y,  , k, r, v, i, t, s,  , b, o, ...</td>\n",
              "    </tr>\n",
              "  </tbody>\n",
              "</table>\n",
              "</div>\n",
              "      <button class=\"colab-df-convert\" onclick=\"convertToInteractive('df-2efed658-5fd1-4256-b008-a9786a94a673')\"\n",
              "              title=\"Convert this dataframe to an interactive table.\"\n",
              "              style=\"display:none;\">\n",
              "\n",
              "  <svg xmlns=\"http://www.w3.org/2000/svg\" height=\"24px\"viewBox=\"0 0 24 24\"\n",
              "       width=\"24px\">\n",
              "    <path d=\"M0 0h24v24H0V0z\" fill=\"none\"/>\n",
              "    <path d=\"M18.56 5.44l.94 2.06.94-2.06 2.06-.94-2.06-.94-.94-2.06-.94 2.06-2.06.94zm-11 1L8.5 8.5l.94-2.06 2.06-.94-2.06-.94L8.5 2.5l-.94 2.06-2.06.94zm10 10l.94 2.06.94-2.06 2.06-.94-2.06-.94-.94-2.06-.94 2.06-2.06.94z\"/><path d=\"M17.41 7.96l-1.37-1.37c-.4-.4-.92-.59-1.43-.59-.52 0-1.04.2-1.43.59L10.3 9.45l-7.72 7.72c-.78.78-.78 2.05 0 2.83L4 21.41c.39.39.9.59 1.41.59.51 0 1.02-.2 1.41-.59l7.78-7.78 2.81-2.81c.8-.78.8-2.07 0-2.86zM5.41 20L4 18.59l7.72-7.72 1.47 1.35L5.41 20z\"/>\n",
              "  </svg>\n",
              "      </button>\n",
              "\n",
              "\n",
              "\n",
              "    <div id=\"df-37d5d5b2-664d-420a-aa48-6c8b2ccdb1cc\">\n",
              "      <button class=\"colab-df-quickchart\" onclick=\"quickchart('df-37d5d5b2-664d-420a-aa48-6c8b2ccdb1cc')\"\n",
              "              title=\"Suggest charts.\"\n",
              "              style=\"display:none;\">\n",
              "\n",
              "<svg xmlns=\"http://www.w3.org/2000/svg\" height=\"24px\"viewBox=\"0 0 24 24\"\n",
              "     width=\"24px\">\n",
              "    <g>\n",
              "        <path d=\"M19 3H5c-1.1 0-2 .9-2 2v14c0 1.1.9 2 2 2h14c1.1 0 2-.9 2-2V5c0-1.1-.9-2-2-2zM9 17H7v-7h2v7zm4 0h-2V7h2v10zm4 0h-2v-4h2v4z\"/>\n",
              "    </g>\n",
              "</svg>\n",
              "      </button>\n",
              "    </div>\n",
              "\n",
              "<style>\n",
              "  .colab-df-quickchart {\n",
              "    background-color: #E8F0FE;\n",
              "    border: none;\n",
              "    border-radius: 50%;\n",
              "    cursor: pointer;\n",
              "    display: none;\n",
              "    fill: #1967D2;\n",
              "    height: 32px;\n",
              "    padding: 0 0 0 0;\n",
              "    width: 32px;\n",
              "  }\n",
              "\n",
              "  .colab-df-quickchart:hover {\n",
              "    background-color: #E2EBFA;\n",
              "    box-shadow: 0px 1px 2px rgba(60, 64, 67, 0.3), 0px 1px 3px 1px rgba(60, 64, 67, 0.15);\n",
              "    fill: #174EA6;\n",
              "  }\n",
              "\n",
              "  [theme=dark] .colab-df-quickchart {\n",
              "    background-color: #3B4455;\n",
              "    fill: #D2E3FC;\n",
              "  }\n",
              "\n",
              "  [theme=dark] .colab-df-quickchart:hover {\n",
              "    background-color: #434B5C;\n",
              "    box-shadow: 0px 1px 3px 1px rgba(0, 0, 0, 0.15);\n",
              "    filter: drop-shadow(0px 1px 2px rgba(0, 0, 0, 0.3));\n",
              "    fill: #FFFFFF;\n",
              "  }\n",
              "</style>\n",
              "\n",
              "    <script>\n",
              "      async function quickchart(key) {\n",
              "        const containerElement = document.querySelector('#' + key);\n",
              "        const charts = await google.colab.kernel.invokeFunction(\n",
              "            'suggestCharts', [key], {});\n",
              "      }\n",
              "    </script>\n",
              "\n",
              "      <script>\n",
              "\n",
              "function displayQuickchartButton(domScope) {\n",
              "  let quickchartButtonEl =\n",
              "    domScope.querySelector('#df-37d5d5b2-664d-420a-aa48-6c8b2ccdb1cc button.colab-df-quickchart');\n",
              "  quickchartButtonEl.style.display =\n",
              "    google.colab.kernel.accessAllowed ? 'block' : 'none';\n",
              "}\n",
              "\n",
              "        displayQuickchartButton(document);\n",
              "      </script>\n",
              "      <style>\n",
              "    .colab-df-container {\n",
              "      display:flex;\n",
              "      flex-wrap:wrap;\n",
              "      gap: 12px;\n",
              "    }\n",
              "\n",
              "    .colab-df-convert {\n",
              "      background-color: #E8F0FE;\n",
              "      border: none;\n",
              "      border-radius: 50%;\n",
              "      cursor: pointer;\n",
              "      display: none;\n",
              "      fill: #1967D2;\n",
              "      height: 32px;\n",
              "      padding: 0 0 0 0;\n",
              "      width: 32px;\n",
              "    }\n",
              "\n",
              "    .colab-df-convert:hover {\n",
              "      background-color: #E2EBFA;\n",
              "      box-shadow: 0px 1px 2px rgba(60, 64, 67, 0.3), 0px 1px 3px 1px rgba(60, 64, 67, 0.15);\n",
              "      fill: #174EA6;\n",
              "    }\n",
              "\n",
              "    [theme=dark] .colab-df-convert {\n",
              "      background-color: #3B4455;\n",
              "      fill: #D2E3FC;\n",
              "    }\n",
              "\n",
              "    [theme=dark] .colab-df-convert:hover {\n",
              "      background-color: #434B5C;\n",
              "      box-shadow: 0px 1px 3px 1px rgba(0, 0, 0, 0.15);\n",
              "      filter: drop-shadow(0px 1px 2px rgba(0, 0, 0, 0.3));\n",
              "      fill: #FFFFFF;\n",
              "    }\n",
              "  </style>\n",
              "\n",
              "      <script>\n",
              "        const buttonEl =\n",
              "          document.querySelector('#df-2efed658-5fd1-4256-b008-a9786a94a673 button.colab-df-convert');\n",
              "        buttonEl.style.display =\n",
              "          google.colab.kernel.accessAllowed ? 'block' : 'none';\n",
              "\n",
              "        async function convertToInteractive(key) {\n",
              "          const element = document.querySelector('#df-2efed658-5fd1-4256-b008-a9786a94a673');\n",
              "          const dataTable =\n",
              "            await google.colab.kernel.invokeFunction('convertToInteractive',\n",
              "                                                     [key], {});\n",
              "          if (!dataTable) return;\n",
              "\n",
              "          const docLinkHtml = 'Like what you see? Visit the ' +\n",
              "            '<a target=\"_blank\" href=https://colab.research.google.com/notebooks/data_table.ipynb>data table notebook</a>'\n",
              "            + ' to learn more about interactive tables.';\n",
              "          element.innerHTML = '';\n",
              "          dataTable['output_type'] = 'display_data';\n",
              "          await google.colab.output.renderOutput(dataTable, element);\n",
              "          const docLink = document.createElement('div');\n",
              "          docLink.innerHTML = docLinkHtml;\n",
              "          element.appendChild(docLink);\n",
              "        }\n",
              "      </script>\n",
              "    </div>\n",
              "  </div>\n"
            ]
          },
          "metadata": {},
          "execution_count": 90
        }
      ]
    },
    {
      "cell_type": "code",
      "source": [
        "nlp_clean['text_blobs'][1200]"
      ],
      "metadata": {
        "colab": {
          "base_uri": "https://localhost:8080/"
        },
        "id": "6a8KvqmJEs8R",
        "outputId": "d0624f86-5516-4a60-eb21-c845d57f0b81"
      },
      "execution_count": null,
      "outputs": [
        {
          "output_type": "execute_result",
          "data": {
            "text/plain": [
              "TextBlob(\"lithang tulku tenzin delek rinpoche or tenzing deleg tibetan wylie bstan dzin bde legs born 1950 in lithang tibet is a tibetan buddhist leader from garze sichuan he was arrested on april 7 2002 during a raid on jamyang choekhorling in garze sichuan china he was accused of being involved in a bomb attack on april 3 2002 on the central square of sichuans provincial capital chengduhe was convicted for alleged involvement in a series of unsolved bombings in his region by the chinese authorities and sentenced to death in december 2002 along with lobsang dhondup a 28year old assistant of his lobsang was executed almost immediately in late january 2003 marking the first execution of a tibetan for political crimes in 20 years tenzin deleks trial began on november 29 2002 before the local court in garze and was sentenced to death with a twoyear execution adjournment overseas human rights groups and united nations human rights experts protested that the case against him was seriously flawed that he did not receive a fair trial and was mistreated in detentionhis sentence was commuted to life imprisonment on 26 january 2005 many overseas advocates of tenzin delek rinpoche continue to fight for a retrialtenzin delek is also widely known for working to develop social medical educational and religious institutions for tibetan nomads in eastern tibet as an advocate for environmental conservation in the face of indiscriminate logging and mining projects and as a mediator between tibetans and chinesein november 2009 40000 tibetans in tenzin delek rinpoches home area signed a petition asking for a retrial they staged a hunger strike at the county seat of lithang for a few days which led to the temporary arrest of about 70 tibetans\")"
            ]
          },
          "metadata": {},
          "execution_count": 91
        }
      ]
    },
    {
      "cell_type": "code",
      "source": [
        "# tokenize the text blobs\n",
        "tokenized = nlp_clean['text_blobs'].apply(lambda blob: blob.words)"
      ],
      "metadata": {
        "id": "9Iw2yidQh-n4"
      },
      "execution_count": null,
      "outputs": []
    },
    {
      "cell_type": "code",
      "source": [
        "tokenized[1200]"
      ],
      "metadata": {
        "colab": {
          "base_uri": "https://localhost:8080/"
        },
        "id": "_NXGgsApkBv3",
        "outputId": "f0f1629f-34d0-4dde-d39d-5d0283eafe01"
      },
      "execution_count": null,
      "outputs": [
        {
          "output_type": "execute_result",
          "data": {
            "text/plain": [
              "WordList(['lithang', 'tulku', 'tenzin', 'delek', 'rinpoche', 'or', 'tenzing', 'deleg', 'tibetan', 'wylie', 'bstan', 'dzin', 'bde', 'legs', 'born', '1950', 'in', 'lithang', 'tibet', 'is', 'a', 'tibetan', 'buddhist', 'leader', 'from', 'garze', 'sichuan', 'he', 'was', 'arrested', 'on', 'april', '7', '2002', 'during', 'a', 'raid', 'on', 'jamyang', 'choekhorling', 'in', 'garze', 'sichuan', 'china', 'he', 'was', 'accused', 'of', 'being', 'involved', 'in', 'a', 'bomb', 'attack', 'on', 'april', '3', '2002', 'on', 'the', 'central', 'square', 'of', 'sichuans', 'provincial', 'capital', 'chengduhe', 'was', 'convicted', 'for', 'alleged', 'involvement', 'in', 'a', 'series', 'of', 'unsolved', 'bombings', 'in', 'his', 'region', 'by', 'the', 'chinese', 'authorities', 'and', 'sentenced', 'to', 'death', 'in', 'december', '2002', 'along', 'with', 'lobsang', 'dhondup', 'a', '28year', 'old', 'assistant', 'of', 'his', 'lobsang', 'was', 'executed', 'almost', 'immediately', 'in', 'late', 'january', '2003', 'marking', 'the', 'first', 'execution', 'of', 'a', 'tibetan', 'for', 'political', 'crimes', 'in', '20', 'years', 'tenzin', 'deleks', 'trial', 'began', 'on', 'november', '29', '2002', 'before', 'the', 'local', 'court', 'in', 'garze', 'and', 'was', 'sentenced', 'to', 'death', 'with', 'a', 'twoyear', 'execution', 'adjournment', 'overseas', 'human', 'rights', 'groups', 'and', 'united', 'nations', 'human', 'rights', 'experts', 'protested', 'that', 'the', 'case', 'against', 'him', 'was', 'seriously', 'flawed', 'that', 'he', 'did', 'not', 'receive', 'a', 'fair', 'trial', 'and', 'was', 'mistreated', 'in', 'detentionhis', 'sentence', 'was', 'commuted', 'to', 'life', 'imprisonment', 'on', '26', 'january', '2005', 'many', 'overseas', 'advocates', 'of', 'tenzin', 'delek', 'rinpoche', 'continue', 'to', 'fight', 'for', 'a', 'retrialtenzin', 'delek', 'is', 'also', 'widely', 'known', 'for', 'working', 'to', 'develop', 'social', 'medical', 'educational', 'and', 'religious', 'institutions', 'for', 'tibetan', 'nomads', 'in', 'eastern', 'tibet', 'as', 'an', 'advocate', 'for', 'environmental', 'conservation', 'in', 'the', 'face', 'of', 'indiscriminate', 'logging', 'and', 'mining', 'projects', 'and', 'as', 'a', 'mediator', 'between', 'tibetans', 'and', 'chinesein', 'november', '2009', '40000', 'tibetans', 'in', 'tenzin', 'delek', 'rinpoches', 'home', 'area', 'signed', 'a', 'petition', 'asking', 'for', 'a', 'retrial', 'they', 'staged', 'a', 'hunger', 'strike', 'at', 'the', 'county', 'seat', 'of', 'lithang', 'for', 'a', 'few', 'days', 'which', 'led', 'to', 'the', 'temporary', 'arrest', 'of', 'about', '70', 'tibetans'])"
            ]
          },
          "metadata": {},
          "execution_count": 93
        }
      ]
    },
    {
      "cell_type": "code",
      "source": [
        "type(tokenized)"
      ],
      "metadata": {
        "colab": {
          "base_uri": "https://localhost:8080/"
        },
        "id": "YfL4ODsikJBT",
        "outputId": "312c91a6-ea6c-48b2-9ecb-ed836fe8ee62"
      },
      "execution_count": null,
      "outputs": [
        {
          "output_type": "execute_result",
          "data": {
            "text/plain": [
              "pandas.core.series.Series"
            ]
          },
          "metadata": {},
          "execution_count": 94
        }
      ]
    },
    {
      "cell_type": "code",
      "source": [
        "# this doesn't work on the full set (crashes)\n",
        "# but works on the 2000 row sample\n",
        "stemmed = tokenized.apply(lambda blob: blob.stem())"
      ],
      "metadata": {
        "id": "7N8QBmU3nR54"
      },
      "execution_count": null,
      "outputs": []
    },
    {
      "cell_type": "code",
      "source": [
        "# may not be necessary and eats a lot of ram...\n",
        "# singularized = tokenized.apply(lambda blob: blob.singularize())"
      ],
      "metadata": {
        "id": "RcQ-lM0hkkrh"
      },
      "execution_count": null,
      "outputs": []
    },
    {
      "cell_type": "code",
      "source": [
        "# singularized_texts = []"
      ],
      "metadata": {
        "id": "ptBqwTJI4rs_"
      },
      "execution_count": null,
      "outputs": []
    },
    {
      "cell_type": "code",
      "source": [
        "# for tokens in tokenized_texts[0:5]:\n",
        "#   singularized_tokens = tokens.singularize()\n",
        "#   singularized_texts.append(singularized_tokens)"
      ],
      "metadata": {
        "id": "rTbOQtSA8Anv"
      },
      "execution_count": null,
      "outputs": []
    },
    {
      "cell_type": "markdown",
      "source": [
        "### text representation"
      ],
      "metadata": {
        "id": "nZM0YhOhyLdk"
      }
    },
    {
      "cell_type": "markdown",
      "source": [
        "#### bag of words"
      ],
      "metadata": {
        "id": "Jid-F-PXyXyj"
      }
    },
    {
      "cell_type": "code",
      "source": [
        "# Convert tokenized lists back to sentences (strings)\n",
        "# 'sentences' will be a pandas Series with sentences formed by joining the tokens\n",
        "\n",
        "sentences = tokenized.apply(lambda tokens: ' '.join(tokens))"
      ],
      "metadata": {
        "id": "dgPIjn6B6xq6"
      },
      "execution_count": null,
      "outputs": []
    },
    {
      "cell_type": "code",
      "source": [
        "# Initialize the CountVectorizer with stop words and any other desired parameters\n",
        "# CountVectorizer is used to convert text data into a numerical representation (Bag of Words)\n",
        "\n",
        "vectorizer = CountVectorizer(stop_words = 'english')"
      ],
      "metadata": {
        "id": "BXsUaIY917-u"
      },
      "execution_count": null,
      "outputs": []
    },
    {
      "cell_type": "code",
      "source": [
        "# Perform the count transformation on the 'sentences' Series\n",
        "# 'bow_vec' will be a sparse matrix representing the Bag of Words representation\n",
        "# Each row corresponds to a sentence, and each column represents the frequency of a word in that sentence\n",
        "\n",
        "bow_vec = vectorizer.fit_transform(sentences)"
      ],
      "metadata": {
        "id": "biUmGvEr2DPQ"
      },
      "execution_count": null,
      "outputs": []
    },
    {
      "cell_type": "code",
      "source": [
        "# Convert 'bow_vec' to a dense array for better visibility\n",
        "\n",
        "bow_vec.toarray()"
      ],
      "metadata": {
        "colab": {
          "base_uri": "https://localhost:8080/"
        },
        "id": "KzBDQvcW7Huh",
        "outputId": "b3c0560e-c2dd-4ba5-955d-0b31ff32d522"
      },
      "execution_count": null,
      "outputs": [
        {
          "output_type": "execute_result",
          "data": {
            "text/plain": [
              "array([[0, 0, 0, ..., 0, 0, 0],\n",
              "       [0, 0, 0, ..., 0, 0, 0],\n",
              "       [0, 0, 0, ..., 0, 0, 0],\n",
              "       ...,\n",
              "       [0, 0, 0, ..., 0, 0, 0],\n",
              "       [0, 0, 0, ..., 0, 0, 0],\n",
              "       [0, 0, 0, ..., 0, 0, 0]])"
            ]
          },
          "metadata": {},
          "execution_count": 102
        }
      ]
    },
    {
      "cell_type": "markdown",
      "source": [
        "#### TF_IDF"
      ],
      "metadata": {
        "id": "-ugFJwI0Un7e"
      }
    },
    {
      "cell_type": "code",
      "source": [
        "# vec_tfidf = pd.DataFrame(bow_vec.toarray(), columns = vectorizer.get_feature_names_out())\n",
        "# vec_tfidf"
      ],
      "metadata": {
        "id": "kL8Zajhk17z4"
      },
      "execution_count": null,
      "outputs": []
    },
    {
      "cell_type": "code",
      "source": [
        "# Initialize the TfidfTransformer to apply Term Frequency-Inverse Document Frequency (TF-IDF) transformation\n",
        "\n",
        "tf_idf_tran = TfidfTransformer()\n",
        "\n",
        "# Perform the TF-IDF transformation on 'bow_vec' (sparse matrix)\n",
        "# 'tf_idf_matrix' will be a new sparse matrix with TF-IDF values\n",
        "\n",
        "tf_idf_matrix = tf_idf_tran.fit_transform(bow_vec)"
      ],
      "metadata": {
        "id": "zFqYbDZFCIdw"
      },
      "execution_count": null,
      "outputs": []
    },
    {
      "cell_type": "code",
      "source": [
        "# Convert the sparse TF-IDF matrix to a pandas DataFrame for better visibility\n",
        "# 'tf_df' will be a DataFrame with TF-IDF values, where each row represents a sentence,\n",
        "# and each column corresponds to a word's TF-IDF value in that sentence\n",
        "\n",
        "tf_df = pd.DataFrame(tf_idf_matrix.toarray(), columns = vectorizer.get_feature_names_out())\n",
        "tf_df"
      ],
      "metadata": {
        "colab": {
          "base_uri": "https://localhost:8080/",
          "height": 487
        },
        "id": "fbQP9tJyCWc4",
        "outputId": "9e7c66e7-945a-4636-bb91-099c72eb49fb"
      },
      "execution_count": null,
      "outputs": [
        {
          "output_type": "execute_result",
          "data": {
            "text/plain": [
              "       00  000  000577  0006  003  005  007  008  009  0091857112  ...  \\\n",
              "0     0.0  0.0     0.0   0.0  0.0  0.0  0.0  0.0  0.0         0.0  ...   \n",
              "1     0.0  0.0     0.0   0.0  0.0  0.0  0.0  0.0  0.0         0.0  ...   \n",
              "2     0.0  0.0     0.0   0.0  0.0  0.0  0.0  0.0  0.0         0.0  ...   \n",
              "3     0.0  0.0     0.0   0.0  0.0  0.0  0.0  0.0  0.0         0.0  ...   \n",
              "4     0.0  0.0     0.0   0.0  0.0  0.0  0.0  0.0  0.0         0.0  ...   \n",
              "...   ...  ...     ...   ...  ...  ...  ...  ...  ...         ...  ...   \n",
              "1995  0.0  0.0     0.0   0.0  0.0  0.0  0.0  0.0  0.0         0.0  ...   \n",
              "1996  0.0  0.0     0.0   0.0  0.0  0.0  0.0  0.0  0.0         0.0  ...   \n",
              "1997  0.0  0.0     0.0   0.0  0.0  0.0  0.0  0.0  0.0         0.0  ...   \n",
              "1998  0.0  0.0     0.0   0.0  0.0  0.0  0.0  0.0  0.0         0.0  ...   \n",
              "1999  0.0  0.0     0.0   0.0  0.0  0.0  0.0  0.0  0.0         0.0  ...   \n",
              "\n",
              "      zvonimir  zwany  zwart  zwarts  zwierciado  zwigoff  zwines  zyl  \\\n",
              "0          0.0    0.0    0.0     0.0         0.0      0.0     0.0  0.0   \n",
              "1          0.0    0.0    0.0     0.0         0.0      0.0     0.0  0.0   \n",
              "2          0.0    0.0    0.0     0.0         0.0      0.0     0.0  0.0   \n",
              "3          0.0    0.0    0.0     0.0         0.0      0.0     0.0  0.0   \n",
              "4          0.0    0.0    0.0     0.0         0.0      0.0     0.0  0.0   \n",
              "...        ...    ...    ...     ...         ...      ...     ...  ...   \n",
              "1995       0.0    0.0    0.0     0.0         0.0      0.0     0.0  0.0   \n",
              "1996       0.0    0.0    0.0     0.0         0.0      0.0     0.0  0.0   \n",
              "1997       0.0    0.0    0.0     0.0         0.0      0.0     0.0  0.0   \n",
              "1998       0.0    0.0    0.0     0.0         0.0      0.0     0.0  0.0   \n",
              "1999       0.0    0.0    0.0     0.0         0.0      0.0     0.0  0.0   \n",
              "\n",
              "      zylberman   zz  \n",
              "0           0.0  0.0  \n",
              "1           0.0  0.0  \n",
              "2           0.0  0.0  \n",
              "3           0.0  0.0  \n",
              "4           0.0  0.0  \n",
              "...         ...  ...  \n",
              "1995        0.0  0.0  \n",
              "1996        0.0  0.0  \n",
              "1997        0.0  0.0  \n",
              "1998        0.0  0.0  \n",
              "1999        0.0  0.0  \n",
              "\n",
              "[2000 rows x 53642 columns]"
            ],
            "text/html": [
              "\n",
              "\n",
              "  <div id=\"df-5b5886ee-f4ed-4b8c-99a4-d048c52495d7\">\n",
              "    <div class=\"colab-df-container\">\n",
              "      <div>\n",
              "<style scoped>\n",
              "    .dataframe tbody tr th:only-of-type {\n",
              "        vertical-align: middle;\n",
              "    }\n",
              "\n",
              "    .dataframe tbody tr th {\n",
              "        vertical-align: top;\n",
              "    }\n",
              "\n",
              "    .dataframe thead th {\n",
              "        text-align: right;\n",
              "    }\n",
              "</style>\n",
              "<table border=\"1\" class=\"dataframe\">\n",
              "  <thead>\n",
              "    <tr style=\"text-align: right;\">\n",
              "      <th></th>\n",
              "      <th>00</th>\n",
              "      <th>000</th>\n",
              "      <th>000577</th>\n",
              "      <th>0006</th>\n",
              "      <th>003</th>\n",
              "      <th>005</th>\n",
              "      <th>007</th>\n",
              "      <th>008</th>\n",
              "      <th>009</th>\n",
              "      <th>0091857112</th>\n",
              "      <th>...</th>\n",
              "      <th>zvonimir</th>\n",
              "      <th>zwany</th>\n",
              "      <th>zwart</th>\n",
              "      <th>zwarts</th>\n",
              "      <th>zwierciado</th>\n",
              "      <th>zwigoff</th>\n",
              "      <th>zwines</th>\n",
              "      <th>zyl</th>\n",
              "      <th>zylberman</th>\n",
              "      <th>zz</th>\n",
              "    </tr>\n",
              "  </thead>\n",
              "  <tbody>\n",
              "    <tr>\n",
              "      <th>0</th>\n",
              "      <td>0.0</td>\n",
              "      <td>0.0</td>\n",
              "      <td>0.0</td>\n",
              "      <td>0.0</td>\n",
              "      <td>0.0</td>\n",
              "      <td>0.0</td>\n",
              "      <td>0.0</td>\n",
              "      <td>0.0</td>\n",
              "      <td>0.0</td>\n",
              "      <td>0.0</td>\n",
              "      <td>...</td>\n",
              "      <td>0.0</td>\n",
              "      <td>0.0</td>\n",
              "      <td>0.0</td>\n",
              "      <td>0.0</td>\n",
              "      <td>0.0</td>\n",
              "      <td>0.0</td>\n",
              "      <td>0.0</td>\n",
              "      <td>0.0</td>\n",
              "      <td>0.0</td>\n",
              "      <td>0.0</td>\n",
              "    </tr>\n",
              "    <tr>\n",
              "      <th>1</th>\n",
              "      <td>0.0</td>\n",
              "      <td>0.0</td>\n",
              "      <td>0.0</td>\n",
              "      <td>0.0</td>\n",
              "      <td>0.0</td>\n",
              "      <td>0.0</td>\n",
              "      <td>0.0</td>\n",
              "      <td>0.0</td>\n",
              "      <td>0.0</td>\n",
              "      <td>0.0</td>\n",
              "      <td>...</td>\n",
              "      <td>0.0</td>\n",
              "      <td>0.0</td>\n",
              "      <td>0.0</td>\n",
              "      <td>0.0</td>\n",
              "      <td>0.0</td>\n",
              "      <td>0.0</td>\n",
              "      <td>0.0</td>\n",
              "      <td>0.0</td>\n",
              "      <td>0.0</td>\n",
              "      <td>0.0</td>\n",
              "    </tr>\n",
              "    <tr>\n",
              "      <th>2</th>\n",
              "      <td>0.0</td>\n",
              "      <td>0.0</td>\n",
              "      <td>0.0</td>\n",
              "      <td>0.0</td>\n",
              "      <td>0.0</td>\n",
              "      <td>0.0</td>\n",
              "      <td>0.0</td>\n",
              "      <td>0.0</td>\n",
              "      <td>0.0</td>\n",
              "      <td>0.0</td>\n",
              "      <td>...</td>\n",
              "      <td>0.0</td>\n",
              "      <td>0.0</td>\n",
              "      <td>0.0</td>\n",
              "      <td>0.0</td>\n",
              "      <td>0.0</td>\n",
              "      <td>0.0</td>\n",
              "      <td>0.0</td>\n",
              "      <td>0.0</td>\n",
              "      <td>0.0</td>\n",
              "      <td>0.0</td>\n",
              "    </tr>\n",
              "    <tr>\n",
              "      <th>3</th>\n",
              "      <td>0.0</td>\n",
              "      <td>0.0</td>\n",
              "      <td>0.0</td>\n",
              "      <td>0.0</td>\n",
              "      <td>0.0</td>\n",
              "      <td>0.0</td>\n",
              "      <td>0.0</td>\n",
              "      <td>0.0</td>\n",
              "      <td>0.0</td>\n",
              "      <td>0.0</td>\n",
              "      <td>...</td>\n",
              "      <td>0.0</td>\n",
              "      <td>0.0</td>\n",
              "      <td>0.0</td>\n",
              "      <td>0.0</td>\n",
              "      <td>0.0</td>\n",
              "      <td>0.0</td>\n",
              "      <td>0.0</td>\n",
              "      <td>0.0</td>\n",
              "      <td>0.0</td>\n",
              "      <td>0.0</td>\n",
              "    </tr>\n",
              "    <tr>\n",
              "      <th>4</th>\n",
              "      <td>0.0</td>\n",
              "      <td>0.0</td>\n",
              "      <td>0.0</td>\n",
              "      <td>0.0</td>\n",
              "      <td>0.0</td>\n",
              "      <td>0.0</td>\n",
              "      <td>0.0</td>\n",
              "      <td>0.0</td>\n",
              "      <td>0.0</td>\n",
              "      <td>0.0</td>\n",
              "      <td>...</td>\n",
              "      <td>0.0</td>\n",
              "      <td>0.0</td>\n",
              "      <td>0.0</td>\n",
              "      <td>0.0</td>\n",
              "      <td>0.0</td>\n",
              "      <td>0.0</td>\n",
              "      <td>0.0</td>\n",
              "      <td>0.0</td>\n",
              "      <td>0.0</td>\n",
              "      <td>0.0</td>\n",
              "    </tr>\n",
              "    <tr>\n",
              "      <th>...</th>\n",
              "      <td>...</td>\n",
              "      <td>...</td>\n",
              "      <td>...</td>\n",
              "      <td>...</td>\n",
              "      <td>...</td>\n",
              "      <td>...</td>\n",
              "      <td>...</td>\n",
              "      <td>...</td>\n",
              "      <td>...</td>\n",
              "      <td>...</td>\n",
              "      <td>...</td>\n",
              "      <td>...</td>\n",
              "      <td>...</td>\n",
              "      <td>...</td>\n",
              "      <td>...</td>\n",
              "      <td>...</td>\n",
              "      <td>...</td>\n",
              "      <td>...</td>\n",
              "      <td>...</td>\n",
              "      <td>...</td>\n",
              "      <td>...</td>\n",
              "    </tr>\n",
              "    <tr>\n",
              "      <th>1995</th>\n",
              "      <td>0.0</td>\n",
              "      <td>0.0</td>\n",
              "      <td>0.0</td>\n",
              "      <td>0.0</td>\n",
              "      <td>0.0</td>\n",
              "      <td>0.0</td>\n",
              "      <td>0.0</td>\n",
              "      <td>0.0</td>\n",
              "      <td>0.0</td>\n",
              "      <td>0.0</td>\n",
              "      <td>...</td>\n",
              "      <td>0.0</td>\n",
              "      <td>0.0</td>\n",
              "      <td>0.0</td>\n",
              "      <td>0.0</td>\n",
              "      <td>0.0</td>\n",
              "      <td>0.0</td>\n",
              "      <td>0.0</td>\n",
              "      <td>0.0</td>\n",
              "      <td>0.0</td>\n",
              "      <td>0.0</td>\n",
              "    </tr>\n",
              "    <tr>\n",
              "      <th>1996</th>\n",
              "      <td>0.0</td>\n",
              "      <td>0.0</td>\n",
              "      <td>0.0</td>\n",
              "      <td>0.0</td>\n",
              "      <td>0.0</td>\n",
              "      <td>0.0</td>\n",
              "      <td>0.0</td>\n",
              "      <td>0.0</td>\n",
              "      <td>0.0</td>\n",
              "      <td>0.0</td>\n",
              "      <td>...</td>\n",
              "      <td>0.0</td>\n",
              "      <td>0.0</td>\n",
              "      <td>0.0</td>\n",
              "      <td>0.0</td>\n",
              "      <td>0.0</td>\n",
              "      <td>0.0</td>\n",
              "      <td>0.0</td>\n",
              "      <td>0.0</td>\n",
              "      <td>0.0</td>\n",
              "      <td>0.0</td>\n",
              "    </tr>\n",
              "    <tr>\n",
              "      <th>1997</th>\n",
              "      <td>0.0</td>\n",
              "      <td>0.0</td>\n",
              "      <td>0.0</td>\n",
              "      <td>0.0</td>\n",
              "      <td>0.0</td>\n",
              "      <td>0.0</td>\n",
              "      <td>0.0</td>\n",
              "      <td>0.0</td>\n",
              "      <td>0.0</td>\n",
              "      <td>0.0</td>\n",
              "      <td>...</td>\n",
              "      <td>0.0</td>\n",
              "      <td>0.0</td>\n",
              "      <td>0.0</td>\n",
              "      <td>0.0</td>\n",
              "      <td>0.0</td>\n",
              "      <td>0.0</td>\n",
              "      <td>0.0</td>\n",
              "      <td>0.0</td>\n",
              "      <td>0.0</td>\n",
              "      <td>0.0</td>\n",
              "    </tr>\n",
              "    <tr>\n",
              "      <th>1998</th>\n",
              "      <td>0.0</td>\n",
              "      <td>0.0</td>\n",
              "      <td>0.0</td>\n",
              "      <td>0.0</td>\n",
              "      <td>0.0</td>\n",
              "      <td>0.0</td>\n",
              "      <td>0.0</td>\n",
              "      <td>0.0</td>\n",
              "      <td>0.0</td>\n",
              "      <td>0.0</td>\n",
              "      <td>...</td>\n",
              "      <td>0.0</td>\n",
              "      <td>0.0</td>\n",
              "      <td>0.0</td>\n",
              "      <td>0.0</td>\n",
              "      <td>0.0</td>\n",
              "      <td>0.0</td>\n",
              "      <td>0.0</td>\n",
              "      <td>0.0</td>\n",
              "      <td>0.0</td>\n",
              "      <td>0.0</td>\n",
              "    </tr>\n",
              "    <tr>\n",
              "      <th>1999</th>\n",
              "      <td>0.0</td>\n",
              "      <td>0.0</td>\n",
              "      <td>0.0</td>\n",
              "      <td>0.0</td>\n",
              "      <td>0.0</td>\n",
              "      <td>0.0</td>\n",
              "      <td>0.0</td>\n",
              "      <td>0.0</td>\n",
              "      <td>0.0</td>\n",
              "      <td>0.0</td>\n",
              "      <td>...</td>\n",
              "      <td>0.0</td>\n",
              "      <td>0.0</td>\n",
              "      <td>0.0</td>\n",
              "      <td>0.0</td>\n",
              "      <td>0.0</td>\n",
              "      <td>0.0</td>\n",
              "      <td>0.0</td>\n",
              "      <td>0.0</td>\n",
              "      <td>0.0</td>\n",
              "      <td>0.0</td>\n",
              "    </tr>\n",
              "  </tbody>\n",
              "</table>\n",
              "<p>2000 rows × 53642 columns</p>\n",
              "</div>\n",
              "      <button class=\"colab-df-convert\" onclick=\"convertToInteractive('df-5b5886ee-f4ed-4b8c-99a4-d048c52495d7')\"\n",
              "              title=\"Convert this dataframe to an interactive table.\"\n",
              "              style=\"display:none;\">\n",
              "\n",
              "  <svg xmlns=\"http://www.w3.org/2000/svg\" height=\"24px\"viewBox=\"0 0 24 24\"\n",
              "       width=\"24px\">\n",
              "    <path d=\"M0 0h24v24H0V0z\" fill=\"none\"/>\n",
              "    <path d=\"M18.56 5.44l.94 2.06.94-2.06 2.06-.94-2.06-.94-.94-2.06-.94 2.06-2.06.94zm-11 1L8.5 8.5l.94-2.06 2.06-.94-2.06-.94L8.5 2.5l-.94 2.06-2.06.94zm10 10l.94 2.06.94-2.06 2.06-.94-2.06-.94-.94-2.06-.94 2.06-2.06.94z\"/><path d=\"M17.41 7.96l-1.37-1.37c-.4-.4-.92-.59-1.43-.59-.52 0-1.04.2-1.43.59L10.3 9.45l-7.72 7.72c-.78.78-.78 2.05 0 2.83L4 21.41c.39.39.9.59 1.41.59.51 0 1.02-.2 1.41-.59l7.78-7.78 2.81-2.81c.8-.78.8-2.07 0-2.86zM5.41 20L4 18.59l7.72-7.72 1.47 1.35L5.41 20z\"/>\n",
              "  </svg>\n",
              "      </button>\n",
              "\n",
              "\n",
              "\n",
              "    <div id=\"df-38f72274-ba51-4dce-bfa6-364dedd42f0d\">\n",
              "      <button class=\"colab-df-quickchart\" onclick=\"quickchart('df-38f72274-ba51-4dce-bfa6-364dedd42f0d')\"\n",
              "              title=\"Suggest charts.\"\n",
              "              style=\"display:none;\">\n",
              "\n",
              "<svg xmlns=\"http://www.w3.org/2000/svg\" height=\"24px\"viewBox=\"0 0 24 24\"\n",
              "     width=\"24px\">\n",
              "    <g>\n",
              "        <path d=\"M19 3H5c-1.1 0-2 .9-2 2v14c0 1.1.9 2 2 2h14c1.1 0 2-.9 2-2V5c0-1.1-.9-2-2-2zM9 17H7v-7h2v7zm4 0h-2V7h2v10zm4 0h-2v-4h2v4z\"/>\n",
              "    </g>\n",
              "</svg>\n",
              "      </button>\n",
              "    </div>\n",
              "\n",
              "<style>\n",
              "  .colab-df-quickchart {\n",
              "    background-color: #E8F0FE;\n",
              "    border: none;\n",
              "    border-radius: 50%;\n",
              "    cursor: pointer;\n",
              "    display: none;\n",
              "    fill: #1967D2;\n",
              "    height: 32px;\n",
              "    padding: 0 0 0 0;\n",
              "    width: 32px;\n",
              "  }\n",
              "\n",
              "  .colab-df-quickchart:hover {\n",
              "    background-color: #E2EBFA;\n",
              "    box-shadow: 0px 1px 2px rgba(60, 64, 67, 0.3), 0px 1px 3px 1px rgba(60, 64, 67, 0.15);\n",
              "    fill: #174EA6;\n",
              "  }\n",
              "\n",
              "  [theme=dark] .colab-df-quickchart {\n",
              "    background-color: #3B4455;\n",
              "    fill: #D2E3FC;\n",
              "  }\n",
              "\n",
              "  [theme=dark] .colab-df-quickchart:hover {\n",
              "    background-color: #434B5C;\n",
              "    box-shadow: 0px 1px 3px 1px rgba(0, 0, 0, 0.15);\n",
              "    filter: drop-shadow(0px 1px 2px rgba(0, 0, 0, 0.3));\n",
              "    fill: #FFFFFF;\n",
              "  }\n",
              "</style>\n",
              "\n",
              "    <script>\n",
              "      async function quickchart(key) {\n",
              "        const containerElement = document.querySelector('#' + key);\n",
              "        const charts = await google.colab.kernel.invokeFunction(\n",
              "            'suggestCharts', [key], {});\n",
              "      }\n",
              "    </script>\n",
              "\n",
              "      <script>\n",
              "\n",
              "function displayQuickchartButton(domScope) {\n",
              "  let quickchartButtonEl =\n",
              "    domScope.querySelector('#df-38f72274-ba51-4dce-bfa6-364dedd42f0d button.colab-df-quickchart');\n",
              "  quickchartButtonEl.style.display =\n",
              "    google.colab.kernel.accessAllowed ? 'block' : 'none';\n",
              "}\n",
              "\n",
              "        displayQuickchartButton(document);\n",
              "      </script>\n",
              "      <style>\n",
              "    .colab-df-container {\n",
              "      display:flex;\n",
              "      flex-wrap:wrap;\n",
              "      gap: 12px;\n",
              "    }\n",
              "\n",
              "    .colab-df-convert {\n",
              "      background-color: #E8F0FE;\n",
              "      border: none;\n",
              "      border-radius: 50%;\n",
              "      cursor: pointer;\n",
              "      display: none;\n",
              "      fill: #1967D2;\n",
              "      height: 32px;\n",
              "      padding: 0 0 0 0;\n",
              "      width: 32px;\n",
              "    }\n",
              "\n",
              "    .colab-df-convert:hover {\n",
              "      background-color: #E2EBFA;\n",
              "      box-shadow: 0px 1px 2px rgba(60, 64, 67, 0.3), 0px 1px 3px 1px rgba(60, 64, 67, 0.15);\n",
              "      fill: #174EA6;\n",
              "    }\n",
              "\n",
              "    [theme=dark] .colab-df-convert {\n",
              "      background-color: #3B4455;\n",
              "      fill: #D2E3FC;\n",
              "    }\n",
              "\n",
              "    [theme=dark] .colab-df-convert:hover {\n",
              "      background-color: #434B5C;\n",
              "      box-shadow: 0px 1px 3px 1px rgba(0, 0, 0, 0.15);\n",
              "      filter: drop-shadow(0px 1px 2px rgba(0, 0, 0, 0.3));\n",
              "      fill: #FFFFFF;\n",
              "    }\n",
              "  </style>\n",
              "\n",
              "      <script>\n",
              "        const buttonEl =\n",
              "          document.querySelector('#df-5b5886ee-f4ed-4b8c-99a4-d048c52495d7 button.colab-df-convert');\n",
              "        buttonEl.style.display =\n",
              "          google.colab.kernel.accessAllowed ? 'block' : 'none';\n",
              "\n",
              "        async function convertToInteractive(key) {\n",
              "          const element = document.querySelector('#df-5b5886ee-f4ed-4b8c-99a4-d048c52495d7');\n",
              "          const dataTable =\n",
              "            await google.colab.kernel.invokeFunction('convertToInteractive',\n",
              "                                                     [key], {});\n",
              "          if (!dataTable) return;\n",
              "\n",
              "          const docLinkHtml = 'Like what you see? Visit the ' +\n",
              "            '<a target=\"_blank\" href=https://colab.research.google.com/notebooks/data_table.ipynb>data table notebook</a>'\n",
              "            + ' to learn more about interactive tables.';\n",
              "          element.innerHTML = '';\n",
              "          dataTable['output_type'] = 'display_data';\n",
              "          await google.colab.output.renderOutput(dataTable, element);\n",
              "          const docLink = document.createElement('div');\n",
              "          docLink.innerHTML = docLinkHtml;\n",
              "          element.appendChild(docLink);\n",
              "        }\n",
              "      </script>\n",
              "    </div>\n",
              "  </div>\n"
            ]
          },
          "metadata": {},
          "execution_count": 105
        }
      ]
    },
    {
      "cell_type": "code",
      "source": [
        "type(tf_df)"
      ],
      "metadata": {
        "colab": {
          "base_uri": "https://localhost:8080/"
        },
        "id": "n9q2INzgDaDq",
        "outputId": "0ab13868-527c-4a4a-98b0-cc4b3956a2f6"
      },
      "execution_count": null,
      "outputs": [
        {
          "output_type": "execute_result",
          "data": {
            "text/plain": [
              "pandas.core.frame.DataFrame"
            ]
          },
          "metadata": {},
          "execution_count": 106
        }
      ]
    },
    {
      "cell_type": "markdown",
      "source": [
        "### nearest neighbors"
      ],
      "metadata": {
        "id": "3lTuIeNCDjKE"
      }
    },
    {
      "cell_type": "code",
      "source": [
        "# Initialize the NearestNeighbors model\n",
        "neighbors = NearestNeighbors()\n",
        "\n",
        "# Fit the NearestNeighbors model on the TF-IDF DataFrame 'tf_df'\n",
        "neighbors.fit(tf_df)"
      ],
      "metadata": {
        "colab": {
          "base_uri": "https://localhost:8080/",
          "height": 74
        },
        "id": "JEAE0U0-EHcY",
        "outputId": "a63267c1-dfc6-4f1c-c5f1-85b63d25e48e"
      },
      "execution_count": null,
      "outputs": [
        {
          "output_type": "execute_result",
          "data": {
            "text/plain": [
              "NearestNeighbors()"
            ],
            "text/html": [
              "<style>#sk-container-id-2 {color: black;background-color: white;}#sk-container-id-2 pre{padding: 0;}#sk-container-id-2 div.sk-toggleable {background-color: white;}#sk-container-id-2 label.sk-toggleable__label {cursor: pointer;display: block;width: 100%;margin-bottom: 0;padding: 0.3em;box-sizing: border-box;text-align: center;}#sk-container-id-2 label.sk-toggleable__label-arrow:before {content: \"▸\";float: left;margin-right: 0.25em;color: #696969;}#sk-container-id-2 label.sk-toggleable__label-arrow:hover:before {color: black;}#sk-container-id-2 div.sk-estimator:hover label.sk-toggleable__label-arrow:before {color: black;}#sk-container-id-2 div.sk-toggleable__content {max-height: 0;max-width: 0;overflow: hidden;text-align: left;background-color: #f0f8ff;}#sk-container-id-2 div.sk-toggleable__content pre {margin: 0.2em;color: black;border-radius: 0.25em;background-color: #f0f8ff;}#sk-container-id-2 input.sk-toggleable__control:checked~div.sk-toggleable__content {max-height: 200px;max-width: 100%;overflow: auto;}#sk-container-id-2 input.sk-toggleable__control:checked~label.sk-toggleable__label-arrow:before {content: \"▾\";}#sk-container-id-2 div.sk-estimator input.sk-toggleable__control:checked~label.sk-toggleable__label {background-color: #d4ebff;}#sk-container-id-2 div.sk-label input.sk-toggleable__control:checked~label.sk-toggleable__label {background-color: #d4ebff;}#sk-container-id-2 input.sk-hidden--visually {border: 0;clip: rect(1px 1px 1px 1px);clip: rect(1px, 1px, 1px, 1px);height: 1px;margin: -1px;overflow: hidden;padding: 0;position: absolute;width: 1px;}#sk-container-id-2 div.sk-estimator {font-family: monospace;background-color: #f0f8ff;border: 1px dotted black;border-radius: 0.25em;box-sizing: border-box;margin-bottom: 0.5em;}#sk-container-id-2 div.sk-estimator:hover {background-color: #d4ebff;}#sk-container-id-2 div.sk-parallel-item::after {content: \"\";width: 100%;border-bottom: 1px solid gray;flex-grow: 1;}#sk-container-id-2 div.sk-label:hover label.sk-toggleable__label {background-color: #d4ebff;}#sk-container-id-2 div.sk-serial::before {content: \"\";position: absolute;border-left: 1px solid gray;box-sizing: border-box;top: 0;bottom: 0;left: 50%;z-index: 0;}#sk-container-id-2 div.sk-serial {display: flex;flex-direction: column;align-items: center;background-color: white;padding-right: 0.2em;padding-left: 0.2em;position: relative;}#sk-container-id-2 div.sk-item {position: relative;z-index: 1;}#sk-container-id-2 div.sk-parallel {display: flex;align-items: stretch;justify-content: center;background-color: white;position: relative;}#sk-container-id-2 div.sk-item::before, #sk-container-id-2 div.sk-parallel-item::before {content: \"\";position: absolute;border-left: 1px solid gray;box-sizing: border-box;top: 0;bottom: 0;left: 50%;z-index: -1;}#sk-container-id-2 div.sk-parallel-item {display: flex;flex-direction: column;z-index: 1;position: relative;background-color: white;}#sk-container-id-2 div.sk-parallel-item:first-child::after {align-self: flex-end;width: 50%;}#sk-container-id-2 div.sk-parallel-item:last-child::after {align-self: flex-start;width: 50%;}#sk-container-id-2 div.sk-parallel-item:only-child::after {width: 0;}#sk-container-id-2 div.sk-dashed-wrapped {border: 1px dashed gray;margin: 0 0.4em 0.5em 0.4em;box-sizing: border-box;padding-bottom: 0.4em;background-color: white;}#sk-container-id-2 div.sk-label label {font-family: monospace;font-weight: bold;display: inline-block;line-height: 1.2em;}#sk-container-id-2 div.sk-label-container {text-align: center;}#sk-container-id-2 div.sk-container {/* jupyter's `normalize.less` sets `[hidden] { display: none; }` but bootstrap.min.css set `[hidden] { display: none !important; }` so we also need the `!important` here to be able to override the default hidden behavior on the sphinx rendered scikit-learn.org. See: https://github.com/scikit-learn/scikit-learn/issues/21755 */display: inline-block !important;position: relative;}#sk-container-id-2 div.sk-text-repr-fallback {display: none;}</style><div id=\"sk-container-id-2\" class=\"sk-top-container\"><div class=\"sk-text-repr-fallback\"><pre>NearestNeighbors()</pre><b>In a Jupyter environment, please rerun this cell to show the HTML representation or trust the notebook. <br />On GitHub, the HTML representation is unable to render, please try loading this page with nbviewer.org.</b></div><div class=\"sk-container\" hidden><div class=\"sk-item\"><div class=\"sk-estimator sk-toggleable\"><input class=\"sk-toggleable__control sk-hidden--visually\" id=\"sk-estimator-id-2\" type=\"checkbox\" checked><label for=\"sk-estimator-id-2\" class=\"sk-toggleable__label sk-toggleable__label-arrow\">NearestNeighbors</label><div class=\"sk-toggleable__content\"><pre>NearestNeighbors()</pre></div></div></div></div></div>"
            ]
          },
          "metadata": {},
          "execution_count": 107
        }
      ]
    },
    {
      "cell_type": "code",
      "source": [
        "# Find the nearest neighbors for the sentence at index 1200 in 'tf_idf_matrix'\n",
        "# 'n_neighbors = 11' means it will find the 11 nearest neighbors, including itself\n",
        "\n",
        "dist, row = neighbors.kneighbors(tf_idf_matrix[1200], n_neighbors = 11)"
      ],
      "metadata": {
        "colab": {
          "base_uri": "https://localhost:8080/"
        },
        "id": "6iMmhU33HImL",
        "outputId": "e2ec106c-bca5-4ac4-c8b7-e7c0ad580b4f"
      },
      "execution_count": null,
      "outputs": [
        {
          "output_type": "stream",
          "name": "stderr",
          "text": [
            "/usr/local/lib/python3.10/dist-packages/sklearn/base.py:439: UserWarning: X does not have valid feature names, but NearestNeighbors was fitted with feature names\n",
            "  warnings.warn(\n"
          ]
        }
      ]
    },
    {
      "cell_type": "code",
      "source": [
        "dist"
      ],
      "metadata": {
        "colab": {
          "base_uri": "https://localhost:8080/"
        },
        "id": "aCzI1tdsKAR3",
        "outputId": "26c48ca2-2aed-4eb3-89ff-4540677d4b59"
      },
      "execution_count": null,
      "outputs": [
        {
          "output_type": "execute_result",
          "data": {
            "text/plain": [
              "array([[2.35608046e-08, 1.29526819e+00, 1.35416830e+00, 1.35504313e+00,\n",
              "        1.35812230e+00, 1.36443514e+00, 1.36699966e+00, 1.36739562e+00,\n",
              "        1.37002601e+00, 1.37206434e+00, 1.37467355e+00]])"
            ]
          },
          "metadata": {},
          "execution_count": 109
        }
      ]
    },
    {
      "cell_type": "code",
      "source": [
        "row"
      ],
      "metadata": {
        "colab": {
          "base_uri": "https://localhost:8080/"
        },
        "id": "VX_C8xjbKBDx",
        "outputId": "38e42987-26eb-4ac3-b133-c87b461469d4"
      },
      "execution_count": null,
      "outputs": [
        {
          "output_type": "execute_result",
          "data": {
            "text/plain": [
              "array([[1200, 1229, 1048,  248,  918, 1663,  615,  284, 1658, 1173, 1686]])"
            ]
          },
          "metadata": {},
          "execution_count": 110
        }
      ]
    },
    {
      "cell_type": "code",
      "source": [
        "# Extract the rows from 'nlp_clean' corresponding to the nearest neighbors\n",
        "\n",
        "closest_10 = nlp_clean.iloc[row[0]]\n",
        "closest_10"
      ],
      "metadata": {
        "colab": {
          "base_uri": "https://localhost:8080/",
          "height": 629
        },
        "id": "-dF71gkGKFwg",
        "outputId": "59552cd6-ff3c-4ce9-adb9-65f91b295f0e"
      },
      "execution_count": null,
      "outputs": [
        {
          "output_type": "execute_result",
          "data": {
            "text/plain": [
              "                                                    URI  \\\n",
              "1200  <http://dbpedia.org/resource/Tenzin_Delek_Rinp...   \n",
              "1229       <http://dbpedia.org/resource/Philip_Denwood>   \n",
              "1048  <http://dbpedia.org/resource/Marek_Antoni_Nowi...   \n",
              "248            <http://dbpedia.org/resource/Guy_Sorman>   \n",
              "918     <http://dbpedia.org/resource/Habibollah_Latifi>   \n",
              "1663        <http://dbpedia.org/resource/Manfred_Nowak>   \n",
              "615   <http://dbpedia.org/resource/Phan_Thanh_H%E1%B...   \n",
              "284           <http://dbpedia.org/resource/Hadi_Ghabel>   \n",
              "1658  <http://dbpedia.org/resource/Martin_O'Brien_(h...   \n",
              "1173        <http://dbpedia.org/resource/Cong_Thanh_Do>   \n",
              "1686   <http://dbpedia.org/resource/Abdulwahab_Hussain>   \n",
              "\n",
              "                               name  \\\n",
              "1200          Tenzin Delek Rinpoche   \n",
              "1229                 Philip Denwood   \n",
              "1048           Marek Antoni Nowicki   \n",
              "248                      Guy Sorman   \n",
              "918               Habibollah Latifi   \n",
              "1663                  Manfred Nowak   \n",
              "615          Phan Thanh H%E1%BA%A3i   \n",
              "284                     Hadi Ghabel   \n",
              "1658  Martin O'Brien (humanitarian)   \n",
              "1173                  Cong Thanh Do   \n",
              "1686             Abdulwahab Hussain   \n",
              "\n",
              "                                                   text  \\\n",
              "1200  lithang tulku tenzin delek rinpoche or tenzing...   \n",
              "1229  philip denwood is a british tibetologist noted...   \n",
              "1048  marek a nowicki is a human rights lawyer he wa...   \n",
              "248   guy sorman born march 10 1944 paris france is ...   \n",
              "918   habibollah latifi is a kurdish iranian law stu...   \n",
              "1663  manfred nowak born 26 june 1950 in bad aussee ...   \n",
              "615   phan thanh hi born c 1969 is a vietnamese diss...   \n",
              "284   hadi ghabel is an iranian cleric and member of...   \n",
              "1658  martin obrien born in belfast northern ireland...   \n",
              "1173  cong thanh do vietnamese thnh cng born ca 1959...   \n",
              "1686  abdulwahab hussain ali ahmed esmael arabic is ...   \n",
              "\n",
              "                                             text_blobs  \n",
              "1200  (l, i, t, h, a, n, g,  , t, u, l, k, u,  , t, ...  \n",
              "1229  (p, h, i, l, i, p,  , d, e, n, w, o, o, d,  , ...  \n",
              "1048  (m, a, r, e, k,  , a,  , n, o, w, i, c, k, i, ...  \n",
              "248   (g, u, y,  , s, o, r, m, a, n,  , b, o, r, n, ...  \n",
              "918   (h, a, b, i, b, o, l, l, a, h,  , l, a, t, i, ...  \n",
              "1663  (m, a, n, f, r, e, d,  , n, o, w, a, k,  , b, ...  \n",
              "615   (p, h, a, n,  , t, h, a, n, h,  , h, i,  , b, ...  \n",
              "284   (h, a, d, i,  , g, h, a, b, e, l,  , i, s,  , ...  \n",
              "1658  (m, a, r, t, i, n,  , o, b, r, i, e, n,  , b, ...  \n",
              "1173  (c, o, n, g,  , t, h, a, n, h,  , d, o,  , v, ...  \n",
              "1686  (a, b, d, u, l, w, a, h, a, b,  , h, u, s, s, ...  "
            ],
            "text/html": [
              "\n",
              "\n",
              "  <div id=\"df-0c3592a3-46f1-456b-82ec-e8261b4c4944\">\n",
              "    <div class=\"colab-df-container\">\n",
              "      <div>\n",
              "<style scoped>\n",
              "    .dataframe tbody tr th:only-of-type {\n",
              "        vertical-align: middle;\n",
              "    }\n",
              "\n",
              "    .dataframe tbody tr th {\n",
              "        vertical-align: top;\n",
              "    }\n",
              "\n",
              "    .dataframe thead th {\n",
              "        text-align: right;\n",
              "    }\n",
              "</style>\n",
              "<table border=\"1\" class=\"dataframe\">\n",
              "  <thead>\n",
              "    <tr style=\"text-align: right;\">\n",
              "      <th></th>\n",
              "      <th>URI</th>\n",
              "      <th>name</th>\n",
              "      <th>text</th>\n",
              "      <th>text_blobs</th>\n",
              "    </tr>\n",
              "  </thead>\n",
              "  <tbody>\n",
              "    <tr>\n",
              "      <th>1200</th>\n",
              "      <td>&lt;http://dbpedia.org/resource/Tenzin_Delek_Rinp...</td>\n",
              "      <td>Tenzin Delek Rinpoche</td>\n",
              "      <td>lithang tulku tenzin delek rinpoche or tenzing...</td>\n",
              "      <td>(l, i, t, h, a, n, g,  , t, u, l, k, u,  , t, ...</td>\n",
              "    </tr>\n",
              "    <tr>\n",
              "      <th>1229</th>\n",
              "      <td>&lt;http://dbpedia.org/resource/Philip_Denwood&gt;</td>\n",
              "      <td>Philip Denwood</td>\n",
              "      <td>philip denwood is a british tibetologist noted...</td>\n",
              "      <td>(p, h, i, l, i, p,  , d, e, n, w, o, o, d,  , ...</td>\n",
              "    </tr>\n",
              "    <tr>\n",
              "      <th>1048</th>\n",
              "      <td>&lt;http://dbpedia.org/resource/Marek_Antoni_Nowi...</td>\n",
              "      <td>Marek Antoni Nowicki</td>\n",
              "      <td>marek a nowicki is a human rights lawyer he wa...</td>\n",
              "      <td>(m, a, r, e, k,  , a,  , n, o, w, i, c, k, i, ...</td>\n",
              "    </tr>\n",
              "    <tr>\n",
              "      <th>248</th>\n",
              "      <td>&lt;http://dbpedia.org/resource/Guy_Sorman&gt;</td>\n",
              "      <td>Guy Sorman</td>\n",
              "      <td>guy sorman born march 10 1944 paris france is ...</td>\n",
              "      <td>(g, u, y,  , s, o, r, m, a, n,  , b, o, r, n, ...</td>\n",
              "    </tr>\n",
              "    <tr>\n",
              "      <th>918</th>\n",
              "      <td>&lt;http://dbpedia.org/resource/Habibollah_Latifi&gt;</td>\n",
              "      <td>Habibollah Latifi</td>\n",
              "      <td>habibollah latifi is a kurdish iranian law stu...</td>\n",
              "      <td>(h, a, b, i, b, o, l, l, a, h,  , l, a, t, i, ...</td>\n",
              "    </tr>\n",
              "    <tr>\n",
              "      <th>1663</th>\n",
              "      <td>&lt;http://dbpedia.org/resource/Manfred_Nowak&gt;</td>\n",
              "      <td>Manfred Nowak</td>\n",
              "      <td>manfred nowak born 26 june 1950 in bad aussee ...</td>\n",
              "      <td>(m, a, n, f, r, e, d,  , n, o, w, a, k,  , b, ...</td>\n",
              "    </tr>\n",
              "    <tr>\n",
              "      <th>615</th>\n",
              "      <td>&lt;http://dbpedia.org/resource/Phan_Thanh_H%E1%B...</td>\n",
              "      <td>Phan Thanh H%E1%BA%A3i</td>\n",
              "      <td>phan thanh hi born c 1969 is a vietnamese diss...</td>\n",
              "      <td>(p, h, a, n,  , t, h, a, n, h,  , h, i,  , b, ...</td>\n",
              "    </tr>\n",
              "    <tr>\n",
              "      <th>284</th>\n",
              "      <td>&lt;http://dbpedia.org/resource/Hadi_Ghabel&gt;</td>\n",
              "      <td>Hadi Ghabel</td>\n",
              "      <td>hadi ghabel is an iranian cleric and member of...</td>\n",
              "      <td>(h, a, d, i,  , g, h, a, b, e, l,  , i, s,  , ...</td>\n",
              "    </tr>\n",
              "    <tr>\n",
              "      <th>1658</th>\n",
              "      <td>&lt;http://dbpedia.org/resource/Martin_O'Brien_(h...</td>\n",
              "      <td>Martin O'Brien (humanitarian)</td>\n",
              "      <td>martin obrien born in belfast northern ireland...</td>\n",
              "      <td>(m, a, r, t, i, n,  , o, b, r, i, e, n,  , b, ...</td>\n",
              "    </tr>\n",
              "    <tr>\n",
              "      <th>1173</th>\n",
              "      <td>&lt;http://dbpedia.org/resource/Cong_Thanh_Do&gt;</td>\n",
              "      <td>Cong Thanh Do</td>\n",
              "      <td>cong thanh do vietnamese thnh cng born ca 1959...</td>\n",
              "      <td>(c, o, n, g,  , t, h, a, n, h,  , d, o,  , v, ...</td>\n",
              "    </tr>\n",
              "    <tr>\n",
              "      <th>1686</th>\n",
              "      <td>&lt;http://dbpedia.org/resource/Abdulwahab_Hussain&gt;</td>\n",
              "      <td>Abdulwahab Hussain</td>\n",
              "      <td>abdulwahab hussain ali ahmed esmael arabic is ...</td>\n",
              "      <td>(a, b, d, u, l, w, a, h, a, b,  , h, u, s, s, ...</td>\n",
              "    </tr>\n",
              "  </tbody>\n",
              "</table>\n",
              "</div>\n",
              "      <button class=\"colab-df-convert\" onclick=\"convertToInteractive('df-0c3592a3-46f1-456b-82ec-e8261b4c4944')\"\n",
              "              title=\"Convert this dataframe to an interactive table.\"\n",
              "              style=\"display:none;\">\n",
              "\n",
              "  <svg xmlns=\"http://www.w3.org/2000/svg\" height=\"24px\"viewBox=\"0 0 24 24\"\n",
              "       width=\"24px\">\n",
              "    <path d=\"M0 0h24v24H0V0z\" fill=\"none\"/>\n",
              "    <path d=\"M18.56 5.44l.94 2.06.94-2.06 2.06-.94-2.06-.94-.94-2.06-.94 2.06-2.06.94zm-11 1L8.5 8.5l.94-2.06 2.06-.94-2.06-.94L8.5 2.5l-.94 2.06-2.06.94zm10 10l.94 2.06.94-2.06 2.06-.94-2.06-.94-.94-2.06-.94 2.06-2.06.94z\"/><path d=\"M17.41 7.96l-1.37-1.37c-.4-.4-.92-.59-1.43-.59-.52 0-1.04.2-1.43.59L10.3 9.45l-7.72 7.72c-.78.78-.78 2.05 0 2.83L4 21.41c.39.39.9.59 1.41.59.51 0 1.02-.2 1.41-.59l7.78-7.78 2.81-2.81c.8-.78.8-2.07 0-2.86zM5.41 20L4 18.59l7.72-7.72 1.47 1.35L5.41 20z\"/>\n",
              "  </svg>\n",
              "      </button>\n",
              "\n",
              "\n",
              "\n",
              "    <div id=\"df-baa03df7-03a7-499a-9c00-d3b5e0a4433f\">\n",
              "      <button class=\"colab-df-quickchart\" onclick=\"quickchart('df-baa03df7-03a7-499a-9c00-d3b5e0a4433f')\"\n",
              "              title=\"Suggest charts.\"\n",
              "              style=\"display:none;\">\n",
              "\n",
              "<svg xmlns=\"http://www.w3.org/2000/svg\" height=\"24px\"viewBox=\"0 0 24 24\"\n",
              "     width=\"24px\">\n",
              "    <g>\n",
              "        <path d=\"M19 3H5c-1.1 0-2 .9-2 2v14c0 1.1.9 2 2 2h14c1.1 0 2-.9 2-2V5c0-1.1-.9-2-2-2zM9 17H7v-7h2v7zm4 0h-2V7h2v10zm4 0h-2v-4h2v4z\"/>\n",
              "    </g>\n",
              "</svg>\n",
              "      </button>\n",
              "    </div>\n",
              "\n",
              "<style>\n",
              "  .colab-df-quickchart {\n",
              "    background-color: #E8F0FE;\n",
              "    border: none;\n",
              "    border-radius: 50%;\n",
              "    cursor: pointer;\n",
              "    display: none;\n",
              "    fill: #1967D2;\n",
              "    height: 32px;\n",
              "    padding: 0 0 0 0;\n",
              "    width: 32px;\n",
              "  }\n",
              "\n",
              "  .colab-df-quickchart:hover {\n",
              "    background-color: #E2EBFA;\n",
              "    box-shadow: 0px 1px 2px rgba(60, 64, 67, 0.3), 0px 1px 3px 1px rgba(60, 64, 67, 0.15);\n",
              "    fill: #174EA6;\n",
              "  }\n",
              "\n",
              "  [theme=dark] .colab-df-quickchart {\n",
              "    background-color: #3B4455;\n",
              "    fill: #D2E3FC;\n",
              "  }\n",
              "\n",
              "  [theme=dark] .colab-df-quickchart:hover {\n",
              "    background-color: #434B5C;\n",
              "    box-shadow: 0px 1px 3px 1px rgba(0, 0, 0, 0.15);\n",
              "    filter: drop-shadow(0px 1px 2px rgba(0, 0, 0, 0.3));\n",
              "    fill: #FFFFFF;\n",
              "  }\n",
              "</style>\n",
              "\n",
              "    <script>\n",
              "      async function quickchart(key) {\n",
              "        const containerElement = document.querySelector('#' + key);\n",
              "        const charts = await google.colab.kernel.invokeFunction(\n",
              "            'suggestCharts', [key], {});\n",
              "      }\n",
              "    </script>\n",
              "\n",
              "      <script>\n",
              "\n",
              "function displayQuickchartButton(domScope) {\n",
              "  let quickchartButtonEl =\n",
              "    domScope.querySelector('#df-baa03df7-03a7-499a-9c00-d3b5e0a4433f button.colab-df-quickchart');\n",
              "  quickchartButtonEl.style.display =\n",
              "    google.colab.kernel.accessAllowed ? 'block' : 'none';\n",
              "}\n",
              "\n",
              "        displayQuickchartButton(document);\n",
              "      </script>\n",
              "      <style>\n",
              "    .colab-df-container {\n",
              "      display:flex;\n",
              "      flex-wrap:wrap;\n",
              "      gap: 12px;\n",
              "    }\n",
              "\n",
              "    .colab-df-convert {\n",
              "      background-color: #E8F0FE;\n",
              "      border: none;\n",
              "      border-radius: 50%;\n",
              "      cursor: pointer;\n",
              "      display: none;\n",
              "      fill: #1967D2;\n",
              "      height: 32px;\n",
              "      padding: 0 0 0 0;\n",
              "      width: 32px;\n",
              "    }\n",
              "\n",
              "    .colab-df-convert:hover {\n",
              "      background-color: #E2EBFA;\n",
              "      box-shadow: 0px 1px 2px rgba(60, 64, 67, 0.3), 0px 1px 3px 1px rgba(60, 64, 67, 0.15);\n",
              "      fill: #174EA6;\n",
              "    }\n",
              "\n",
              "    [theme=dark] .colab-df-convert {\n",
              "      background-color: #3B4455;\n",
              "      fill: #D2E3FC;\n",
              "    }\n",
              "\n",
              "    [theme=dark] .colab-df-convert:hover {\n",
              "      background-color: #434B5C;\n",
              "      box-shadow: 0px 1px 3px 1px rgba(0, 0, 0, 0.15);\n",
              "      filter: drop-shadow(0px 1px 2px rgba(0, 0, 0, 0.3));\n",
              "      fill: #FFFFFF;\n",
              "    }\n",
              "  </style>\n",
              "\n",
              "      <script>\n",
              "        const buttonEl =\n",
              "          document.querySelector('#df-0c3592a3-46f1-456b-82ec-e8261b4c4944 button.colab-df-convert');\n",
              "        buttonEl.style.display =\n",
              "          google.colab.kernel.accessAllowed ? 'block' : 'none';\n",
              "\n",
              "        async function convertToInteractive(key) {\n",
              "          const element = document.querySelector('#df-0c3592a3-46f1-456b-82ec-e8261b4c4944');\n",
              "          const dataTable =\n",
              "            await google.colab.kernel.invokeFunction('convertToInteractive',\n",
              "                                                     [key], {});\n",
              "          if (!dataTable) return;\n",
              "\n",
              "          const docLinkHtml = 'Like what you see? Visit the ' +\n",
              "            '<a target=\"_blank\" href=https://colab.research.google.com/notebooks/data_table.ipynb>data table notebook</a>'\n",
              "            + ' to learn more about interactive tables.';\n",
              "          element.innerHTML = '';\n",
              "          dataTable['output_type'] = 'display_data';\n",
              "          await google.colab.output.renderOutput(dataTable, element);\n",
              "          const docLink = document.createElement('div');\n",
              "          docLink.innerHTML = docLinkHtml;\n",
              "          element.appendChild(docLink);\n",
              "        }\n",
              "      </script>\n",
              "    </div>\n",
              "  </div>\n"
            ]
          },
          "metadata": {},
          "execution_count": 111
        }
      ]
    },
    {
      "cell_type": "code",
      "source": [
        "nlp_clean['text_blobs'][1200]"
      ],
      "metadata": {
        "colab": {
          "base_uri": "https://localhost:8080/"
        },
        "id": "dJj_OtzWKunE",
        "outputId": "442059d9-a736-4f81-974b-ea2803df2904"
      },
      "execution_count": null,
      "outputs": [
        {
          "output_type": "execute_result",
          "data": {
            "text/plain": [
              "TextBlob(\"lithang tulku tenzin delek rinpoche or tenzing deleg tibetan wylie bstan dzin bde legs born 1950 in lithang tibet is a tibetan buddhist leader from garze sichuan he was arrested on april 7 2002 during a raid on jamyang choekhorling in garze sichuan china he was accused of being involved in a bomb attack on april 3 2002 on the central square of sichuans provincial capital chengduhe was convicted for alleged involvement in a series of unsolved bombings in his region by the chinese authorities and sentenced to death in december 2002 along with lobsang dhondup a 28year old assistant of his lobsang was executed almost immediately in late january 2003 marking the first execution of a tibetan for political crimes in 20 years tenzin deleks trial began on november 29 2002 before the local court in garze and was sentenced to death with a twoyear execution adjournment overseas human rights groups and united nations human rights experts protested that the case against him was seriously flawed that he did not receive a fair trial and was mistreated in detentionhis sentence was commuted to life imprisonment on 26 january 2005 many overseas advocates of tenzin delek rinpoche continue to fight for a retrialtenzin delek is also widely known for working to develop social medical educational and religious institutions for tibetan nomads in eastern tibet as an advocate for environmental conservation in the face of indiscriminate logging and mining projects and as a mediator between tibetans and chinesein november 2009 40000 tibetans in tenzin delek rinpoches home area signed a petition asking for a retrial they staged a hunger strike at the county seat of lithang for a few days which led to the temporary arrest of about 70 tibetans\")"
            ]
          },
          "metadata": {},
          "execution_count": 112
        }
      ]
    },
    {
      "cell_type": "code",
      "source": [
        "nlp_clean['text_blobs'][1686]"
      ],
      "metadata": {
        "colab": {
          "base_uri": "https://localhost:8080/"
        },
        "id": "MQ9NlluaLHHE",
        "outputId": "f82b68de-d1ac-42fc-a9f5-a8eeb8117b20"
      },
      "execution_count": null,
      "outputs": [
        {
          "output_type": "execute_result",
          "data": {
            "text/plain": [
              "TextBlob(\"abdulwahab hussain ali ahmed esmael arabic is a bahraini political activist writer religious figure and philosopher he was one of the most prominent opposition leaders in the 1990s uprising when he was arrested twice for a total length of five years in which he was allegedly subjected to solitary confinement and torture after his release in 2001 he supported government reform plansin 2001 hussain chaired the committee which founded al wefaq bahrains main opposition party he urged opposition leaders to boycott 2002 parliamentary election after the king issued constitution of 2002 which he found going back on reform plans in 2003 hussain announced he would leave politics and stop issuing public statements and in 2005 he resigned from al wefaq in 2009 he returned to politics becoming the cofounder and official spokesman of al wafa islamic movementduring the bahraini uprising 2011present hussain played an important role leading protests calling for the downfall of regime and establishment of a democratic republic one month after the beginning of protests he was arrested allegedly tortured and sentenced by a special military court to life imprisonment later sentence was overturned and it was announced that he would be retried by a civilian court the retrial began in 22 may 2012 but was postponed until may 29\")"
            ]
          },
          "metadata": {},
          "execution_count": 113
        }
      ]
    },
    {
      "cell_type": "code",
      "source": [
        "nlp_clean['text_blobs'][1229]"
      ],
      "metadata": {
        "colab": {
          "base_uri": "https://localhost:8080/"
        },
        "id": "rX1_BWDNLSe9",
        "outputId": "ee0fc091-cb68-4d5f-d29f-c83dd1bc71a7"
      },
      "execution_count": null,
      "outputs": [
        {
          "output_type": "execute_result",
          "data": {
            "text/plain": [
              "TextBlob(\"philip denwood is a british tibetologist noted for his work on traditional tibetan arts and handicrafts himalayan architecture and tibetan linguisticshe was born on august 29 in 1941 in workington cumberland where he also grew up in 1962 he gained his ba in geography and history at university college london ucl and later in 1964 an ma in architecture and town planning from liverpool university he became a research fellow in tibetan at soas in 1965 and became lecturer in tibetan in 1973 denwood describes his interest in himalayan cultures as purely accidental having completed his study at liverpool and based in england denwood was living next door to a friend of his from college david snellgrove snellgrove had not long returned from a trip to the himalayas and had brought five tibetan refugees back with him around the time of the first wave of exiles post 1959 denwoods intrigue about the situation with his friends house guests coupled with his interest in oriental architecture inspired him to join snellgrove on an overland trip to india he had been planning they drove a landrover to nepal together which they later sold to a bhutanese army officer and denwood stayed there learning tibetan while snellgrove went ahead to south india when snellgrove returned to nepal denwood joined him once again and they drove to bhutan the trip lasted a year in total and learning the tibetan language had prompted denwoods interest in linguistics when he returned to england denwood landed the training post of research fellow of tibetan at the school of oriental and african studies university of london soas where he was eventually appointed as a lecturerduring his time learning tibetan in nepal denwood had observed the lack of material available for learning the language and found the native approach to teaching too unscientific his budding interest in linguistics brought about his own analysis of the language learning also from richard keith sprigg who at the time was teaching in the soas linguistics department this study culminated in the writing of his own book of tibetan grammar titled tibetan denwoods interest in tibetan handicrafts he again describes as accidental the soas library had sent him to delhi india on a placement for 6 months he traveled with his wife and two young children having been introduced to the tibetan community there he became familiar with the carpet trade it was his wife who decided to learn how to weave a carpet whilst denwood wrote a book about the process denwood retired from teaching at soas in 2006\")"
            ]
          },
          "metadata": {},
          "execution_count": 114
        }
      ]
    },
    {
      "cell_type": "code",
      "source": [
        "nlp_clean['text_blobs'][615]"
      ],
      "metadata": {
        "colab": {
          "base_uri": "https://localhost:8080/"
        },
        "id": "WfGzE9ykTlCy",
        "outputId": "5d208fe4-2943-4118-ab39-338b49b140ef"
      },
      "execution_count": null,
      "outputs": [
        {
          "output_type": "execute_result",
          "data": {
            "text/plain": [
              "TextBlob(\"phan thanh hi born c 1969 is a vietnamese dissident blogger blogging as anhbasg or anh ba si gn at the website independent journalists club phan discussed controversial topics including other dissidents vietnams maritime border with china and government corruption scandalsa lawyer by training phan was denied permission to practice due to his blogging and his involvement in protests in 2007 he was arrested after a protest against the beijing olympics and later placed under police surveillancein october 2010 he was arrested in ho chi minh city and charged with disseminating antistate information and materials carrying a maximum sentence of twenty years imprisonment he later confessed to the charges fellow independent journalists club posters nguyen van hai and ta phong tan were also arrested though their trial was scheduled to begin in august it was delayed indefinitely after tas mother dang thi kim lieng immolated herself in front of the government offices in bac lieu province in protest of the trialthe un office of the high commissioner for human rights criticized the arrests stating its concern for what appears to be increasingly limited space for freedom of expression in viet nam in a july 2012 visit to hanoi us secretary of state hillary clinton expressed concern for the detention of the three members of the free vietnamese journalists club amnesty international described the three bloggers as prisoners of conscience detained solely for the peaceful exercise of their right to freedom of expression through their online writings and urged their release the international federation for human rights and world organisation against torture also released a joint statement calling on the vietnamese government to release the three bloggers unconditionally in 2011 human rights watch awarded him a hellmanhammett award for writers who demonstrate courage and conviction in the face of political persecutionon 4 october 2012 panh than hai pled guilty and was sentenced to four years in prison in a oneday hearing the economist described as looking very much like an oldfashioned sovietstyle show trial prosecutors stated that the three had distorted the truth about state and party created anxiety among citizens and supported schemes to overthrow the government while the court found that they were seriously affecting national security and the image of the country in the global arena on the same day ta phong tan was sentenced to ten years imprisonment and nguyen van hai to twelve years\")"
            ]
          },
          "metadata": {},
          "execution_count": 115
        }
      ]
    },
    {
      "cell_type": "code",
      "source": [
        "nlp_clean['text_blobs'][918]"
      ],
      "metadata": {
        "colab": {
          "base_uri": "https://localhost:8080/"
        },
        "id": "FlzvgbASLZYj",
        "outputId": "e6da1c45-ec75-4ce3-c379-dc410a05ca00"
      },
      "execution_count": null,
      "outputs": [
        {
          "output_type": "execute_result",
          "data": {
            "text/plain": [
              "TextBlob(\"habibollah latifi is a kurdish iranian law student at azad university and a kurdish activist who has been charged with moharebeh waging war against god and sentenced to death by an islamic revolutionary court in iran he is charged with committing acts of violence a charge he denies in cooperation with the party of free life of kurdistan pjak in 2007latifi has been described as a straight a student and an athlete who loves nature and his countrys mountains he was arrested in october 2007 and sentenced to death in 2008 in a court session that lasted a few minutes and that followed four months of interrogation and torture his sentence was upheld by an appeals court in 2009 his lawyer was informed on thursday december 22 2010 that latifi was scheduled to be executed on sunday december 26 2010 in sanandaj prison in kurdistan province iran his execution was halted after his lawyer requested further investigation into his case in a letter to judiciary chief sadeq larijani latifi met with his family on sunday morningamnesty international has asked iran to commute latifis sentence they note that he had no legal representation at his trial which was held behind closed doors it is clear that habibollah latifi did not receive a fair trial by international standards which makes the news of his impending execution all the more abhorrent malcolm smart amnesty internationals middle east and north africa director said regarding the charges against latifi his lawyer said he was not even present at sanandaj during those times and was living a secret life at a different location we have asked the initial court and the appeals court to look into these accusations and summon all who think mr latifi was present at any of these event and state have seen him during on the other hand we have asked the family whom have given refuge to mr latifi to be summoned and testify in court which neither issue was addressed the court has announced the reports of police officials are sufficient enough for the court to decide a ruling in may 2011 united4iran reported that according to several sources latifi was suffering from various illnesses including an intestinal infection heart problems and kidney failurelatifis sister said i ask all human rights organizations and anyone who is able to help to come forward but i still think what needs to be done has to be from inside the country\")"
            ]
          },
          "metadata": {},
          "execution_count": 54
        }
      ]
    },
    {
      "cell_type": "markdown",
      "source": [
        "### Sentiment and Subjectivity"
      ],
      "metadata": {
        "id": "-a5nFCYAoDB0"
      }
    },
    {
      "cell_type": "code",
      "source": [
        "# investigate one of our random samples\n",
        "nlp.loc[6562]"
      ],
      "metadata": {
        "colab": {
          "base_uri": "https://localhost:8080/"
        },
        "id": "Q6Sr8ZFEIsix",
        "outputId": "21030b62-0899-4e3a-fc28-2153e4fc984b"
      },
      "execution_count": null,
      "outputs": [
        {
          "output_type": "execute_result",
          "data": {
            "text/plain": [
              "URI                 <http://dbpedia.org/resource/Ping_Li>\n",
              "name                                              Ping Li\n",
              "text    ping li chinese pinyin l png is a professor of...\n",
              "Name: 6562, dtype: object"
            ]
          },
          "metadata": {},
          "execution_count": 77
        }
      ]
    },
    {
      "cell_type": "code",
      "source": [
        "sent_subj = nlp.loc[1200]['text']"
      ],
      "metadata": {
        "id": "WqTN8TtYIzdA"
      },
      "execution_count": null,
      "outputs": []
    },
    {
      "cell_type": "code",
      "source": [
        "nlp_clean['name'][1200]"
      ],
      "metadata": {
        "colab": {
          "base_uri": "https://localhost:8080/",
          "height": 36
        },
        "id": "SMP7kJXCo8Nm",
        "outputId": "3289661e-a96d-473c-cf9a-b0079de19640"
      },
      "execution_count": null,
      "outputs": [
        {
          "output_type": "execute_result",
          "data": {
            "text/plain": [
              "'Tenzin Delek Rinpoche'"
            ],
            "application/vnd.google.colaboratory.intrinsic+json": {
              "type": "string"
            }
          },
          "metadata": {},
          "execution_count": 120
        }
      ]
    },
    {
      "cell_type": "code",
      "source": [
        "sent_subj"
      ],
      "metadata": {
        "colab": {
          "base_uri": "https://localhost:8080/",
          "height": 163
        },
        "id": "TS4ckCGjSRQ-",
        "outputId": "764e3ca4-7925-41e9-db27-72d9d55c68a1"
      },
      "execution_count": null,
      "outputs": [
        {
          "output_type": "execute_result",
          "data": {
            "text/plain": [
              "'lithang tulku tenzin delek rinpoche or tenzing deleg tibetan wylie bstan dzin bde legs born 1950 in lithang tibet is a tibetan buddhist leader from garze sichuan he was arrested on april 7 2002 during a raid on jamyang choekhorling in garze sichuan china he was accused of being involved in a bomb attack on april 3 2002 on the central square of sichuans provincial capital chengduhe was convicted for alleged involvement in a series of unsolved bombings in his region by the chinese authorities and sentenced to death in december 2002 along with lobsang dhondup a 28year old assistant of his lobsang was executed almost immediately in late january 2003 marking the first execution of a tibetan for political crimes in 20 years tenzin deleks trial began on november 29 2002 before the local court in garze and was sentenced to death with a twoyear execution adjournment overseas human rights groups and united nations human rights experts protested that the case against him was seriously flawed that he did not receive a fair trial and was mistreated in detentionhis sentence was commuted to life imprisonment on 26 january 2005 many overseas advocates of tenzin delek rinpoche continue to fight for a retrialtenzin delek is also widely known for working to develop social medical educational and religious institutions for tibetan nomads in eastern tibet as an advocate for environmental conservation in the face of indiscriminate logging and mining projects and as a mediator between tibetans and chinesein november 2009 40000 tibetans in tenzin delek rinpoches home area signed a petition asking for a retrial they staged a hunger strike at the county seat of lithang for a few days which led to the temporary arrest of about 70 tibetans'"
            ],
            "application/vnd.google.colaboratory.intrinsic+json": {
              "type": "string"
            }
          },
          "metadata": {},
          "execution_count": 79
        }
      ]
    },
    {
      "cell_type": "code",
      "source": [
        "blob_ss = TextBlob(sent_subj)"
      ],
      "metadata": {
        "id": "OKmrUvHUPkDQ"
      },
      "execution_count": null,
      "outputs": []
    },
    {
      "cell_type": "code",
      "source": [
        "blob_ss"
      ],
      "metadata": {
        "colab": {
          "base_uri": "https://localhost:8080/"
        },
        "id": "nYfYfeGWKQ9S",
        "outputId": "6958251a-0645-410e-d4b6-dfcb421d8d54"
      },
      "execution_count": null,
      "outputs": [
        {
          "output_type": "execute_result",
          "data": {
            "text/plain": [
              "TextBlob(\"lithang tulku tenzin delek rinpoche or tenzing deleg tibetan wylie bstan dzin bde legs born 1950 in lithang tibet is a tibetan buddhist leader from garze sichuan he was arrested on april 7 2002 during a raid on jamyang choekhorling in garze sichuan china he was accused of being involved in a bomb attack on april 3 2002 on the central square of sichuans provincial capital chengduhe was convicted for alleged involvement in a series of unsolved bombings in his region by the chinese authorities and sentenced to death in december 2002 along with lobsang dhondup a 28year old assistant of his lobsang was executed almost immediately in late january 2003 marking the first execution of a tibetan for political crimes in 20 years tenzin deleks trial began on november 29 2002 before the local court in garze and was sentenced to death with a twoyear execution adjournment overseas human rights groups and united nations human rights experts protested that the case against him was seriously flawed that he did not receive a fair trial and was mistreated in detentionhis sentence was commuted to life imprisonment on 26 january 2005 many overseas advocates of tenzin delek rinpoche continue to fight for a retrialtenzin delek is also widely known for working to develop social medical educational and religious institutions for tibetan nomads in eastern tibet as an advocate for environmental conservation in the face of indiscriminate logging and mining projects and as a mediator between tibetans and chinesein november 2009 40000 tibetans in tenzin delek rinpoches home area signed a petition asking for a retrial they staged a hunger strike at the county seat of lithang for a few days which led to the temporary arrest of about 70 tibetans\")"
            ]
          },
          "metadata": {},
          "execution_count": 81
        }
      ]
    },
    {
      "cell_type": "code",
      "source": [
        "blob_ss.tags"
      ],
      "metadata": {
        "id": "12En8GXCP144",
        "colab": {
          "base_uri": "https://localhost:8080/"
        },
        "outputId": "e980bb39-0d49-4ece-faa1-83d3558649b3"
      },
      "execution_count": null,
      "outputs": [
        {
          "output_type": "execute_result",
          "data": {
            "text/plain": [
              "[('lithang', 'NN'),\n",
              " ('tulku', 'NN'),\n",
              " ('tenzin', 'NN'),\n",
              " ('delek', 'NN'),\n",
              " ('rinpoche', 'NN'),\n",
              " ('or', 'CC'),\n",
              " ('tenzing', 'VBG'),\n",
              " ('deleg', 'JJ'),\n",
              " ('tibetan', 'JJ'),\n",
              " ('wylie', 'NN'),\n",
              " ('bstan', 'NN'),\n",
              " ('dzin', 'NN'),\n",
              " ('bde', 'NN'),\n",
              " ('legs', 'VBZ'),\n",
              " ('born', 'JJ'),\n",
              " ('1950', 'CD'),\n",
              " ('in', 'IN'),\n",
              " ('lithang', 'NN'),\n",
              " ('tibet', 'NN'),\n",
              " ('is', 'VBZ'),\n",
              " ('a', 'DT'),\n",
              " ('tibetan', 'JJ'),\n",
              " ('buddhist', 'NN'),\n",
              " ('leader', 'NN'),\n",
              " ('from', 'IN'),\n",
              " ('garze', 'JJ'),\n",
              " ('sichuan', 'NN'),\n",
              " ('he', 'PRP'),\n",
              " ('was', 'VBD'),\n",
              " ('arrested', 'VBN'),\n",
              " ('on', 'IN'),\n",
              " ('april', 'NN'),\n",
              " ('7', 'CD'),\n",
              " ('2002', 'CD'),\n",
              " ('during', 'IN'),\n",
              " ('a', 'DT'),\n",
              " ('raid', 'NN'),\n",
              " ('on', 'IN'),\n",
              " ('jamyang', 'NN'),\n",
              " ('choekhorling', 'NN'),\n",
              " ('in', 'IN'),\n",
              " ('garze', 'JJ'),\n",
              " ('sichuan', 'JJ'),\n",
              " ('china', 'NN'),\n",
              " ('he', 'PRP'),\n",
              " ('was', 'VBD'),\n",
              " ('accused', 'VBN'),\n",
              " ('of', 'IN'),\n",
              " ('being', 'VBG'),\n",
              " ('involved', 'VBN'),\n",
              " ('in', 'IN'),\n",
              " ('a', 'DT'),\n",
              " ('bomb', 'NN'),\n",
              " ('attack', 'NN'),\n",
              " ('on', 'IN'),\n",
              " ('april', 'NN'),\n",
              " ('3', 'CD'),\n",
              " ('2002', 'CD'),\n",
              " ('on', 'IN'),\n",
              " ('the', 'DT'),\n",
              " ('central', 'JJ'),\n",
              " ('square', 'NN'),\n",
              " ('of', 'IN'),\n",
              " ('sichuans', 'NNS'),\n",
              " ('provincial', 'JJ'),\n",
              " ('capital', 'NN'),\n",
              " ('chengduhe', 'NN'),\n",
              " ('was', 'VBD'),\n",
              " ('convicted', 'VBN'),\n",
              " ('for', 'IN'),\n",
              " ('alleged', 'JJ'),\n",
              " ('involvement', 'NN'),\n",
              " ('in', 'IN'),\n",
              " ('a', 'DT'),\n",
              " ('series', 'NN'),\n",
              " ('of', 'IN'),\n",
              " ('unsolved', 'JJ'),\n",
              " ('bombings', 'NNS'),\n",
              " ('in', 'IN'),\n",
              " ('his', 'PRP$'),\n",
              " ('region', 'NN'),\n",
              " ('by', 'IN'),\n",
              " ('the', 'DT'),\n",
              " ('chinese', 'JJ'),\n",
              " ('authorities', 'NNS'),\n",
              " ('and', 'CC'),\n",
              " ('sentenced', 'VBN'),\n",
              " ('to', 'TO'),\n",
              " ('death', 'NN'),\n",
              " ('in', 'IN'),\n",
              " ('december', 'NN'),\n",
              " ('2002', 'CD'),\n",
              " ('along', 'IN'),\n",
              " ('with', 'IN'),\n",
              " ('lobsang', 'NN'),\n",
              " ('dhondup', 'VBP'),\n",
              " ('a', 'DT'),\n",
              " ('28year', 'CD'),\n",
              " ('old', 'JJ'),\n",
              " ('assistant', 'NN'),\n",
              " ('of', 'IN'),\n",
              " ('his', 'PRP$'),\n",
              " ('lobsang', 'NN'),\n",
              " ('was', 'VBD'),\n",
              " ('executed', 'VBN'),\n",
              " ('almost', 'RB'),\n",
              " ('immediately', 'RB'),\n",
              " ('in', 'IN'),\n",
              " ('late', 'JJ'),\n",
              " ('january', 'JJ'),\n",
              " ('2003', 'CD'),\n",
              " ('marking', 'VBG'),\n",
              " ('the', 'DT'),\n",
              " ('first', 'JJ'),\n",
              " ('execution', 'NN'),\n",
              " ('of', 'IN'),\n",
              " ('a', 'DT'),\n",
              " ('tibetan', 'NN'),\n",
              " ('for', 'IN'),\n",
              " ('political', 'JJ'),\n",
              " ('crimes', 'NNS'),\n",
              " ('in', 'IN'),\n",
              " ('20', 'CD'),\n",
              " ('years', 'NNS'),\n",
              " ('tenzin', 'JJ'),\n",
              " ('deleks', 'RB'),\n",
              " ('trial', 'NN'),\n",
              " ('began', 'VBD'),\n",
              " ('on', 'IN'),\n",
              " ('november', 'IN'),\n",
              " ('29', 'CD'),\n",
              " ('2002', 'CD'),\n",
              " ('before', 'IN'),\n",
              " ('the', 'DT'),\n",
              " ('local', 'JJ'),\n",
              " ('court', 'NN'),\n",
              " ('in', 'IN'),\n",
              " ('garze', 'NN'),\n",
              " ('and', 'CC'),\n",
              " ('was', 'VBD'),\n",
              " ('sentenced', 'VBN'),\n",
              " ('to', 'TO'),\n",
              " ('death', 'NN'),\n",
              " ('with', 'IN'),\n",
              " ('a', 'DT'),\n",
              " ('twoyear', 'JJ'),\n",
              " ('execution', 'NN'),\n",
              " ('adjournment', 'NN'),\n",
              " ('overseas', 'RB'),\n",
              " ('human', 'JJ'),\n",
              " ('rights', 'NNS'),\n",
              " ('groups', 'NNS'),\n",
              " ('and', 'CC'),\n",
              " ('united', 'JJ'),\n",
              " ('nations', 'NNS'),\n",
              " ('human', 'JJ'),\n",
              " ('rights', 'NNS'),\n",
              " ('experts', 'NNS'),\n",
              " ('protested', 'VBD'),\n",
              " ('that', 'IN'),\n",
              " ('the', 'DT'),\n",
              " ('case', 'NN'),\n",
              " ('against', 'IN'),\n",
              " ('him', 'PRP'),\n",
              " ('was', 'VBD'),\n",
              " ('seriously', 'RB'),\n",
              " ('flawed', 'VBN'),\n",
              " ('that', 'IN'),\n",
              " ('he', 'PRP'),\n",
              " ('did', 'VBD'),\n",
              " ('not', 'RB'),\n",
              " ('receive', 'VB'),\n",
              " ('a', 'DT'),\n",
              " ('fair', 'JJ'),\n",
              " ('trial', 'NN'),\n",
              " ('and', 'CC'),\n",
              " ('was', 'VBD'),\n",
              " ('mistreated', 'VBN'),\n",
              " ('in', 'IN'),\n",
              " ('detentionhis', 'JJ'),\n",
              " ('sentence', 'NN'),\n",
              " ('was', 'VBD'),\n",
              " ('commuted', 'VBN'),\n",
              " ('to', 'TO'),\n",
              " ('life', 'NN'),\n",
              " ('imprisonment', 'NN'),\n",
              " ('on', 'IN'),\n",
              " ('26', 'CD'),\n",
              " ('january', 'JJ'),\n",
              " ('2005', 'CD'),\n",
              " ('many', 'JJ'),\n",
              " ('overseas', 'JJ'),\n",
              " ('advocates', 'NNS'),\n",
              " ('of', 'IN'),\n",
              " ('tenzin', 'NN'),\n",
              " ('delek', 'NN'),\n",
              " ('rinpoche', 'NN'),\n",
              " ('continue', 'VBP'),\n",
              " ('to', 'TO'),\n",
              " ('fight', 'VB'),\n",
              " ('for', 'IN'),\n",
              " ('a', 'DT'),\n",
              " ('retrialtenzin', 'NN'),\n",
              " ('delek', 'NN'),\n",
              " ('is', 'VBZ'),\n",
              " ('also', 'RB'),\n",
              " ('widely', 'RB'),\n",
              " ('known', 'VBN'),\n",
              " ('for', 'IN'),\n",
              " ('working', 'VBG'),\n",
              " ('to', 'TO'),\n",
              " ('develop', 'VB'),\n",
              " ('social', 'JJ'),\n",
              " ('medical', 'JJ'),\n",
              " ('educational', 'JJ'),\n",
              " ('and', 'CC'),\n",
              " ('religious', 'JJ'),\n",
              " ('institutions', 'NNS'),\n",
              " ('for', 'IN'),\n",
              " ('tibetan', 'JJ'),\n",
              " ('nomads', 'NNS'),\n",
              " ('in', 'IN'),\n",
              " ('eastern', 'JJ'),\n",
              " ('tibet', 'NN'),\n",
              " ('as', 'IN'),\n",
              " ('an', 'DT'),\n",
              " ('advocate', 'NN'),\n",
              " ('for', 'IN'),\n",
              " ('environmental', 'JJ'),\n",
              " ('conservation', 'NN'),\n",
              " ('in', 'IN'),\n",
              " ('the', 'DT'),\n",
              " ('face', 'NN'),\n",
              " ('of', 'IN'),\n",
              " ('indiscriminate', 'JJ'),\n",
              " ('logging', 'NN'),\n",
              " ('and', 'CC'),\n",
              " ('mining', 'NN'),\n",
              " ('projects', 'NNS'),\n",
              " ('and', 'CC'),\n",
              " ('as', 'IN'),\n",
              " ('a', 'DT'),\n",
              " ('mediator', 'NN'),\n",
              " ('between', 'IN'),\n",
              " ('tibetans', 'NNS'),\n",
              " ('and', 'CC'),\n",
              " ('chinesein', 'NNS'),\n",
              " ('november', 'VBP'),\n",
              " ('2009', 'CD'),\n",
              " ('40000', 'CD'),\n",
              " ('tibetans', 'NNS'),\n",
              " ('in', 'IN'),\n",
              " ('tenzin', 'NN'),\n",
              " ('delek', 'NN'),\n",
              " ('rinpoches', 'VBZ'),\n",
              " ('home', 'NN'),\n",
              " ('area', 'NN'),\n",
              " ('signed', 'VBD'),\n",
              " ('a', 'DT'),\n",
              " ('petition', 'NN'),\n",
              " ('asking', 'VBG'),\n",
              " ('for', 'IN'),\n",
              " ('a', 'DT'),\n",
              " ('retrial', 'JJ'),\n",
              " ('they', 'PRP'),\n",
              " ('staged', 'VBD'),\n",
              " ('a', 'DT'),\n",
              " ('hunger', 'NN'),\n",
              " ('strike', 'NN'),\n",
              " ('at', 'IN'),\n",
              " ('the', 'DT'),\n",
              " ('county', 'NN'),\n",
              " ('seat', 'NN'),\n",
              " ('of', 'IN'),\n",
              " ('lithang', 'NN'),\n",
              " ('for', 'IN'),\n",
              " ('a', 'DT'),\n",
              " ('few', 'JJ'),\n",
              " ('days', 'NNS'),\n",
              " ('which', 'WDT'),\n",
              " ('led', 'VBD'),\n",
              " ('to', 'TO'),\n",
              " ('the', 'DT'),\n",
              " ('temporary', 'JJ'),\n",
              " ('arrest', 'NN'),\n",
              " ('of', 'IN'),\n",
              " ('about', 'IN'),\n",
              " ('70', 'CD'),\n",
              " ('tibetans', 'NNS')]"
            ]
          },
          "metadata": {},
          "execution_count": 82
        }
      ]
    },
    {
      "cell_type": "code",
      "source": [
        "blob_ss.sentiment"
      ],
      "metadata": {
        "colab": {
          "base_uri": "https://localhost:8080/"
        },
        "id": "DH7uiAFdP8SA",
        "outputId": "cff67231-0028-4839-8000-ae66b8f55e91"
      },
      "execution_count": null,
      "outputs": [
        {
          "output_type": "execute_result",
          "data": {
            "text/plain": [
              "Sentiment(polarity=0.029166666666666664, subjectivity=0.23749999999999996)"
            ]
          },
          "metadata": {},
          "execution_count": 83
        }
      ]
    },
    {
      "cell_type": "code",
      "source": [
        "blob_ss.sentences"
      ],
      "metadata": {
        "colab": {
          "base_uri": "https://localhost:8080/"
        },
        "id": "rQNMNgkKP_6v",
        "outputId": "c8aa1262-766a-45d6-9654-978484480db7"
      },
      "execution_count": null,
      "outputs": [
        {
          "output_type": "execute_result",
          "data": {
            "text/plain": [
              "[Sentence(\"lithang tulku tenzin delek rinpoche or tenzing deleg tibetan wylie bstan dzin bde legs born 1950 in lithang tibet is a tibetan buddhist leader from garze sichuan he was arrested on april 7 2002 during a raid on jamyang choekhorling in garze sichuan china he was accused of being involved in a bomb attack on april 3 2002 on the central square of sichuans provincial capital chengduhe was convicted for alleged involvement in a series of unsolved bombings in his region by the chinese authorities and sentenced to death in december 2002 along with lobsang dhondup a 28year old assistant of his lobsang was executed almost immediately in late january 2003 marking the first execution of a tibetan for political crimes in 20 years tenzin deleks trial began on november 29 2002 before the local court in garze and was sentenced to death with a twoyear execution adjournment overseas human rights groups and united nations human rights experts protested that the case against him was seriously flawed that he did not receive a fair trial and was mistreated in detentionhis sentence was commuted to life imprisonment on 26 january 2005 many overseas advocates of tenzin delek rinpoche continue to fight for a retrialtenzin delek is also widely known for working to develop social medical educational and religious institutions for tibetan nomads in eastern tibet as an advocate for environmental conservation in the face of indiscriminate logging and mining projects and as a mediator between tibetans and chinesein november 2009 40000 tibetans in tenzin delek rinpoches home area signed a petition asking for a retrial they staged a hunger strike at the county seat of lithang for a few days which led to the temporary arrest of about 70 tibetans\")]"
            ]
          },
          "metadata": {},
          "execution_count": 84
        }
      ]
    },
    {
      "cell_type": "code",
      "source": [
        "len(blob_ss)"
      ],
      "metadata": {
        "colab": {
          "base_uri": "https://localhost:8080/"
        },
        "id": "BnAUJWnqTas-",
        "outputId": "d44f7a5a-2b7e-401b-e284-5b3a798b79fb"
      },
      "execution_count": null,
      "outputs": [
        {
          "output_type": "execute_result",
          "data": {
            "text/plain": [
              "1741"
            ]
          },
          "metadata": {},
          "execution_count": 85
        }
      ]
    },
    {
      "cell_type": "markdown",
      "source": [
        "### Wikipedia API"
      ],
      "metadata": {
        "id": "8p5dFdpcVU7e"
      }
    },
    {
      "cell_type": "code",
      "execution_count": null,
      "metadata": {
        "id": "QZKrDDzTE32G"
      },
      "outputs": [],
      "source": [
        "#install Wikipedia API\n",
        "%%capture\n",
        "!pip3 install wikipedia-api"
      ]
    },
    {
      "cell_type": "code",
      "execution_count": null,
      "metadata": {
        "id": "QCyuTKCq-mLN"
      },
      "outputs": [],
      "source": [
        "import wikipediaapi"
      ]
    },
    {
      "cell_type": "code",
      "execution_count": null,
      "metadata": {
        "id": "cZ8mxZvMEeDC",
        "colab": {
          "base_uri": "https://localhost:8080/",
          "height": 163
        },
        "outputId": "9960eda0-2393-4ef4-ffa1-0d1a84819f74"
      },
      "outputs": [
        {
          "output_type": "execute_result",
          "data": {
            "text/plain": [
              "'Lithang Tulku Tenzin Delek Rinpoche or Tenzing Deleg (Tibetan: བསྟན་འཛིན་བདེ་ལེགས་, Wylie: Bstan \\'dzin bde legs) (1950 – 2015) was a Tibetan Buddhist leader from Garze, Sichuan. He is also known for working to develop social, medical, educational and religious institutions for Tibetan nomads in eastern Tibet, as an advocate for environmental conservation in the face of indiscriminate logging and mining projects, and as a mediator between Tibetans and Chinese.\\n\\nPersonal life\\nRinpoche was born in Lithang, Tibet.\\nOn 7 April 2002 he was arrested during a raid on Jamyang Choekhorling in Garze, Sichuan, China, and accused of being involved in a bomb attack on 3 April 2002 on the central square of Sichuan\\'s provincial capital, Chengdu.He was convicted for alleged involvement in a series of unsolved bombings in his region by the Chinese authorities and sentenced to death in December 2002 along with Lobsang Dhondup, a 28-year-old assistant of his. Lobsang was executed almost immediately in late January 2003, marking the first execution of a Tibetan for political crimes in 20 years. Tenzin Delek\\'s trial began on 29 November 2002 before the Local Court in Garze and was sentenced to death with a two-year execution adjournment. Overseas human rights groups and United Nations human rights experts protested that the case against him was seriously flawed, that he did not receive a fair trial, and was mistreated in detention.His sentence was commuted to life imprisonment on 26 January 2005. Many overseas advocates of Tenzin Delek Rinpoche continued to fight for a retrial.In November 2009, 40,000 Tibetans in Tenzin Delek Rinpoche\\'s home area signed a petition asking for a re-trial. They staged a hunger strike at the county seat of Lithang for a few days, which led to the temporary arrest of about 70 Tibetans.He died on 12 July 2015 in Chengdu, China at the age of 65. Prior to his death Tibetans and rights groups had called for his release on medical parole. His death was followed by calls for the release of his body in order to determine the cause of death and carry out traditional funeral rites; one protest was met by China\\'s security forces opening fire, injuring several Tibetans. Chinese authorities cremated the body without an autopsy.\\n\\nStatement by Tenzin Delek\\n\"Since I am a Tibetan, I have always been sincere and devoted to the interests and well-being of Tibetan people. That is the real reason why the Chinese do not like me and framed me. That is why they are going to take my precious life even though I am innocent.\"\\n\\nSee also\\nPolitical prisoners\\n\\nReferences\\nExternal links\\nFree Tibetan Heroes\\nUnjust Sentence: A Special Report on Trulku Tenzin Delek, TCHRD, Dharamsala, 2004\\nPetition to for re-trial of Tenzin Delek Rinpoche\\nSaveTenzin.org\\nList of projects by Tenzin Delek\\nStudents for a Free Tibet\\'s campaign page for Tenzin Delek'"
            ],
            "application/vnd.google.colaboratory.intrinsic+json": {
              "type": "string"
            }
          },
          "metadata": {},
          "execution_count": 123
        }
      ],
      "source": [
        "# Pull out page from Wikipedia\n",
        "topic = 'Tenzin Delek Rinpoche'\n",
        "wikip = wikipediaapi.Wikipedia('foobar')\n",
        "page_ex = wikip.page(topic)\n",
        "wiki_text = page_ex.text\n",
        "wiki_text"
      ]
    },
    {
      "cell_type": "code",
      "source": [
        "# Replace newline chars with spaces before doing any processing. Strip the ' and \"s\" from possessives\n",
        "wiki_text_clean = wiki_text.replace(\"\\n\",\" \").replace(\"\\'s\",'').replace('\\'','').replace(\"(\", \"\").replace(\")\", \"\").replace('\"', \"\")\n",
        "wiki_text_clean"
      ],
      "metadata": {
        "colab": {
          "base_uri": "https://localhost:8080/",
          "height": 163
        },
        "id": "us7xgZDKpaeV",
        "outputId": "bae7bb45-babc-49ab-e511-c4f5b91a5198"
      },
      "execution_count": null,
      "outputs": [
        {
          "output_type": "execute_result",
          "data": {
            "text/plain": [
              "'Lithang Tulku Tenzin Delek Rinpoche or Tenzing Deleg Tibetan: བསྟན་འཛིན་བདེ་ལེགས་, Wylie: Bstan dzin bde legs 1950 – 2015 was a Tibetan Buddhist leader from Garze, Sichuan. He is also known for working to develop social, medical, educational and religious institutions for Tibetan nomads in eastern Tibet, as an advocate for environmental conservation in the face of indiscriminate logging and mining projects, and as a mediator between Tibetans and Chinese.  Personal life Rinpoche was born in Lithang, Tibet. On 7 April 2002 he was arrested during a raid on Jamyang Choekhorling in Garze, Sichuan, China, and accused of being involved in a bomb attack on 3 April 2002 on the central square of Sichuan provincial capital, Chengdu.He was convicted for alleged involvement in a series of unsolved bombings in his region by the Chinese authorities and sentenced to death in December 2002 along with Lobsang Dhondup, a 28-year-old assistant of his. Lobsang was executed almost immediately in late January 2003, marking the first execution of a Tibetan for political crimes in 20 years. Tenzin Delek trial began on 29 November 2002 before the Local Court in Garze and was sentenced to death with a two-year execution adjournment. Overseas human rights groups and United Nations human rights experts protested that the case against him was seriously flawed, that he did not receive a fair trial, and was mistreated in detention.His sentence was commuted to life imprisonment on 26 January 2005. Many overseas advocates of Tenzin Delek Rinpoche continued to fight for a retrial.In November 2009, 40,000 Tibetans in Tenzin Delek Rinpoche home area signed a petition asking for a re-trial. They staged a hunger strike at the county seat of Lithang for a few days, which led to the temporary arrest of about 70 Tibetans.He died on 12 July 2015 in Chengdu, China at the age of 65. Prior to his death Tibetans and rights groups had called for his release on medical parole. His death was followed by calls for the release of his body in order to determine the cause of death and carry out traditional funeral rites; one protest was met by China security forces opening fire, injuring several Tibetans. Chinese authorities cremated the body without an autopsy.  Statement by Tenzin Delek Since I am a Tibetan, I have always been sincere and devoted to the interests and well-being of Tibetan people. That is the real reason why the Chinese do not like me and framed me. That is why they are going to take my precious life even though I am innocent.  See also Political prisoners  References External links Free Tibetan Heroes Unjust Sentence: A Special Report on Trulku Tenzin Delek, TCHRD, Dharamsala, 2004 Petition to for re-trial of Tenzin Delek Rinpoche SaveTenzin.org List of projects by Tenzin Delek Students for a Free Tibet campaign page for Tenzin Delek'"
            ],
            "application/vnd.google.colaboratory.intrinsic+json": {
              "type": "string"
            }
          },
          "metadata": {},
          "execution_count": 124
        }
      ]
    },
    {
      "cell_type": "code",
      "execution_count": null,
      "metadata": {
        "id": "oDIJiWY1Kwd3"
      },
      "outputs": [],
      "source": [
        "# Convert to textblob\n",
        "wiki_blob = TextBlob(wiki_text_clean)"
      ]
    },
    {
      "cell_type": "code",
      "source": [
        "wiki_blob.sentiment"
      ],
      "metadata": {
        "colab": {
          "base_uri": "https://localhost:8080/"
        },
        "id": "Lk_6Yk6FsAiz",
        "outputId": "3227e4ea-7d5b-4e07-edfb-f7f2dfb206bf"
      },
      "execution_count": null,
      "outputs": [
        {
          "output_type": "execute_result",
          "data": {
            "text/plain": [
              "Sentiment(polarity=0.09829931972789115, subjectivity=0.28775510204081634)"
            ]
          },
          "metadata": {},
          "execution_count": 130
        }
      ]
    },
    {
      "cell_type": "code",
      "source": [
        "# create list with names of nearest neighbors\n",
        "name_list = closest_10['name'].tolist()\n",
        "name_list"
      ],
      "metadata": {
        "colab": {
          "base_uri": "https://localhost:8080/"
        },
        "id": "IgH8suNtsDQ3",
        "outputId": "c0602353-909b-487f-eab6-8ee31c01fdb2"
      },
      "execution_count": null,
      "outputs": [
        {
          "output_type": "execute_result",
          "data": {
            "text/plain": [
              "['Tenzin Delek Rinpoche',\n",
              " 'Philip Denwood',\n",
              " 'Marek Antoni Nowicki',\n",
              " 'Guy Sorman',\n",
              " 'Habibollah Latifi',\n",
              " 'Manfred Nowak',\n",
              " 'Phan Thanh H%E1%BA%A3i',\n",
              " 'Hadi Ghabel',\n",
              " \"Martin O'Brien (humanitarian)\",\n",
              " 'Cong Thanh Do',\n",
              " 'Abdulwahab Hussain']"
            ]
          },
          "metadata": {},
          "execution_count": 131
        }
      ]
    },
    {
      "cell_type": "code",
      "source": [
        "# Create an empty dictionary to store Wikipedia pages for each person\n",
        "wiki_pages = {}\n",
        "\n",
        "# Initialize the Wikipedia API with the 'english' language\n",
        "wiki = wikipediaapi.Wikipedia('english')\n",
        "\n",
        "# Iterate over each person in the 'name_list'\n",
        "for person in name_list:\n",
        "  get_page = wiki.page(person)\n",
        "  wiki_pages[person] = get_page.text"
      ],
      "metadata": {
        "id": "cI95WZLXsh38"
      },
      "execution_count": null,
      "outputs": []
    },
    {
      "cell_type": "code",
      "source": [
        "# Check the number of Wikipedia pages retrieved\n",
        "len(wiki_pages)"
      ],
      "metadata": {
        "colab": {
          "base_uri": "https://localhost:8080/"
        },
        "id": "tQKgx8RntMtb",
        "outputId": "6ee877ea-9616-46f7-c526-a989691f1cd3"
      },
      "execution_count": null,
      "outputs": [
        {
          "output_type": "execute_result",
          "data": {
            "text/plain": [
              "11"
            ]
          },
          "metadata": {},
          "execution_count": 134
        }
      ]
    },
    {
      "cell_type": "code",
      "source": [
        "# Combine the Wikipedia page texts into a list, including the target 'wiki_text' at index 0\n",
        "combined_pages = [wiki_text] + list(wiki_pages.values())"
      ],
      "metadata": {
        "id": "IEPtgzFqtPBm"
      },
      "execution_count": null,
      "outputs": []
    },
    {
      "cell_type": "code",
      "source": [
        "# Create a TF-IDF vectorizer to convert text data into numerical vectors\n",
        "tfidf_wiki = TfidfVectorizer()\n",
        "\n",
        "# Apply TF-IDF vectorization on the combined pages\n",
        "wiki_vectors = tfidf_wiki.fit_transform(combined_pages)"
      ],
      "metadata": {
        "id": "8MjCi1yttkIw"
      },
      "execution_count": null,
      "outputs": []
    },
    {
      "cell_type": "code",
      "source": [
        "# Define the number of nearest neighbors (k) to find\n",
        "k = 10\n",
        "\n",
        "# Create a KNN model with 'cosine' similarity metric\n",
        "knn = NearestNeighbors(n_neighbors=k, metric='cosine')\n",
        "\n",
        "# Fit the KNN model on the TF-IDF vectors of the Wikipedia pages\n",
        "knn.fit(wiki_vectors)"
      ],
      "metadata": {
        "colab": {
          "base_uri": "https://localhost:8080/",
          "height": 74
        },
        "id": "owFOZiRuuDsx",
        "outputId": "5ea26179-004f-4e30-9732-79035a0f0aea"
      },
      "execution_count": null,
      "outputs": [
        {
          "output_type": "execute_result",
          "data": {
            "text/plain": [
              "NearestNeighbors(metric='cosine', n_neighbors=10)"
            ],
            "text/html": [
              "<style>#sk-container-id-3 {color: black;background-color: white;}#sk-container-id-3 pre{padding: 0;}#sk-container-id-3 div.sk-toggleable {background-color: white;}#sk-container-id-3 label.sk-toggleable__label {cursor: pointer;display: block;width: 100%;margin-bottom: 0;padding: 0.3em;box-sizing: border-box;text-align: center;}#sk-container-id-3 label.sk-toggleable__label-arrow:before {content: \"▸\";float: left;margin-right: 0.25em;color: #696969;}#sk-container-id-3 label.sk-toggleable__label-arrow:hover:before {color: black;}#sk-container-id-3 div.sk-estimator:hover label.sk-toggleable__label-arrow:before {color: black;}#sk-container-id-3 div.sk-toggleable__content {max-height: 0;max-width: 0;overflow: hidden;text-align: left;background-color: #f0f8ff;}#sk-container-id-3 div.sk-toggleable__content pre {margin: 0.2em;color: black;border-radius: 0.25em;background-color: #f0f8ff;}#sk-container-id-3 input.sk-toggleable__control:checked~div.sk-toggleable__content {max-height: 200px;max-width: 100%;overflow: auto;}#sk-container-id-3 input.sk-toggleable__control:checked~label.sk-toggleable__label-arrow:before {content: \"▾\";}#sk-container-id-3 div.sk-estimator input.sk-toggleable__control:checked~label.sk-toggleable__label {background-color: #d4ebff;}#sk-container-id-3 div.sk-label input.sk-toggleable__control:checked~label.sk-toggleable__label {background-color: #d4ebff;}#sk-container-id-3 input.sk-hidden--visually {border: 0;clip: rect(1px 1px 1px 1px);clip: rect(1px, 1px, 1px, 1px);height: 1px;margin: -1px;overflow: hidden;padding: 0;position: absolute;width: 1px;}#sk-container-id-3 div.sk-estimator {font-family: monospace;background-color: #f0f8ff;border: 1px dotted black;border-radius: 0.25em;box-sizing: border-box;margin-bottom: 0.5em;}#sk-container-id-3 div.sk-estimator:hover {background-color: #d4ebff;}#sk-container-id-3 div.sk-parallel-item::after {content: \"\";width: 100%;border-bottom: 1px solid gray;flex-grow: 1;}#sk-container-id-3 div.sk-label:hover label.sk-toggleable__label {background-color: #d4ebff;}#sk-container-id-3 div.sk-serial::before {content: \"\";position: absolute;border-left: 1px solid gray;box-sizing: border-box;top: 0;bottom: 0;left: 50%;z-index: 0;}#sk-container-id-3 div.sk-serial {display: flex;flex-direction: column;align-items: center;background-color: white;padding-right: 0.2em;padding-left: 0.2em;position: relative;}#sk-container-id-3 div.sk-item {position: relative;z-index: 1;}#sk-container-id-3 div.sk-parallel {display: flex;align-items: stretch;justify-content: center;background-color: white;position: relative;}#sk-container-id-3 div.sk-item::before, #sk-container-id-3 div.sk-parallel-item::before {content: \"\";position: absolute;border-left: 1px solid gray;box-sizing: border-box;top: 0;bottom: 0;left: 50%;z-index: -1;}#sk-container-id-3 div.sk-parallel-item {display: flex;flex-direction: column;z-index: 1;position: relative;background-color: white;}#sk-container-id-3 div.sk-parallel-item:first-child::after {align-self: flex-end;width: 50%;}#sk-container-id-3 div.sk-parallel-item:last-child::after {align-self: flex-start;width: 50%;}#sk-container-id-3 div.sk-parallel-item:only-child::after {width: 0;}#sk-container-id-3 div.sk-dashed-wrapped {border: 1px dashed gray;margin: 0 0.4em 0.5em 0.4em;box-sizing: border-box;padding-bottom: 0.4em;background-color: white;}#sk-container-id-3 div.sk-label label {font-family: monospace;font-weight: bold;display: inline-block;line-height: 1.2em;}#sk-container-id-3 div.sk-label-container {text-align: center;}#sk-container-id-3 div.sk-container {/* jupyter's `normalize.less` sets `[hidden] { display: none; }` but bootstrap.min.css set `[hidden] { display: none !important; }` so we also need the `!important` here to be able to override the default hidden behavior on the sphinx rendered scikit-learn.org. See: https://github.com/scikit-learn/scikit-learn/issues/21755 */display: inline-block !important;position: relative;}#sk-container-id-3 div.sk-text-repr-fallback {display: none;}</style><div id=\"sk-container-id-3\" class=\"sk-top-container\"><div class=\"sk-text-repr-fallback\"><pre>NearestNeighbors(metric=&#x27;cosine&#x27;, n_neighbors=10)</pre><b>In a Jupyter environment, please rerun this cell to show the HTML representation or trust the notebook. <br />On GitHub, the HTML representation is unable to render, please try loading this page with nbviewer.org.</b></div><div class=\"sk-container\" hidden><div class=\"sk-item\"><div class=\"sk-estimator sk-toggleable\"><input class=\"sk-toggleable__control sk-hidden--visually\" id=\"sk-estimator-id-3\" type=\"checkbox\" checked><label for=\"sk-estimator-id-3\" class=\"sk-toggleable__label sk-toggleable__label-arrow\">NearestNeighbors</label><div class=\"sk-toggleable__content\"><pre>NearestNeighbors(metric=&#x27;cosine&#x27;, n_neighbors=10)</pre></div></div></div></div></div>"
            ]
          },
          "metadata": {},
          "execution_count": 138
        }
      ]
    },
    {
      "cell_type": "code",
      "source": [
        "# Find the k-nearest neighbors for the target 'wiki_text' (index 0)\n",
        "nn_dist, nn_indices = knn.kneighbors(wiki_vectors[0])"
      ],
      "metadata": {
        "id": "MQO_eA6YuVrM"
      },
      "execution_count": null,
      "outputs": []
    },
    {
      "cell_type": "code",
      "source": [
        "# Print the nearness ranking of the nearest neighbors\n",
        "\n",
        "print(\"Nearness Ranking:\")\n",
        "for i, neighbor_index in enumerate(nn_indices[0]):\n",
        "    if neighbor_index == 0:  # Skip target\n",
        "        continue\n",
        "    person = name_list[neighbor_index - 1]  # Subtract 1 to adjust for target being at index 0\n",
        "    distance = nn_dist[0][i]\n",
        "    print(f\"{i + 1}. {person}: {distance:.3f}\")"
      ],
      "metadata": {
        "colab": {
          "base_uri": "https://localhost:8080/"
        },
        "id": "opIEIlNfulwl",
        "outputId": "690f261a-2e2c-4a35-e332-9e87f74d9b6d"
      },
      "execution_count": null,
      "outputs": [
        {
          "output_type": "stream",
          "name": "stdout",
          "text": [
            "Nearness Ranking:\n",
            "1. Tenzin Delek Rinpoche: 0.000\n",
            "3. Abdulwahab Hussain: 0.566\n",
            "4. Manfred Nowak: 0.594\n",
            "5. Marek Antoni Nowicki: 0.596\n",
            "6. Guy Sorman: 0.616\n",
            "7. Philip Denwood: 0.633\n",
            "8. Hadi Ghabel: 0.645\n",
            "9. Habibollah Latifi: 0.659\n",
            "10. Cong Thanh Do: 0.663\n"
          ]
        }
      ]
    },
    {
      "cell_type": "markdown",
      "source": [
        "### ~archive"
      ],
      "metadata": {
        "id": "jlYaUU-LoMs_"
      }
    },
    {
      "cell_type": "code",
      "source": [
        "# blob_tfidf = blob_eda.words[0:1402].stem()"
      ],
      "metadata": {
        "id": "Z3zETg0fSiTS"
      },
      "execution_count": null,
      "outputs": []
    },
    {
      "cell_type": "code",
      "source": [
        "# count_vectorizer = CountVectorizer()"
      ],
      "metadata": {
        "id": "_siCkK-zZM40"
      },
      "execution_count": null,
      "outputs": []
    },
    {
      "cell_type": "code",
      "source": [
        "# word_counts = count_vectorizer.fit_transform(blob_tfidf)"
      ],
      "metadata": {
        "id": "ST5xkGxJYhmg"
      },
      "execution_count": null,
      "outputs": []
    },
    {
      "cell_type": "code",
      "source": [
        "# tf_idf_tran = TfidfTransformer()"
      ],
      "metadata": {
        "id": "Y7EUkaiNZ6ac"
      },
      "execution_count": null,
      "outputs": []
    },
    {
      "cell_type": "code",
      "source": [
        "# tf_idf_matrix = tf_idf_tran.fit_transform(word_counts)"
      ],
      "metadata": {
        "id": "xxz8JjFWaMZm"
      },
      "execution_count": null,
      "outputs": []
    },
    {
      "cell_type": "code",
      "source": [
        "# tf_df = pd.DataFrame(tf_idf_matrix.toarray(), columns = count_vectorizer.get_feature_names_out())\n",
        "# tf_df.describe()"
      ],
      "metadata": {
        "id": "5sqgjW3aaV2i"
      },
      "execution_count": null,
      "outputs": []
    }
  ]
}